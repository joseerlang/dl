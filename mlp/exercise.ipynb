{
 "cells": [
  {
   "cell_type": "markdown",
   "metadata": {},
   "source": [
    "[![Open In Colab](https://colab.research.google.com/assets/colab-badge.svg)](https://colab.research.google.com/github/sensioai/nbs/blob/master/mlp/exercise.ipynb)"
   ]
  },
  {
   "cell_type": "markdown",
   "metadata": {},
   "source": [
    "# MLP exercise\n",
    "\n",
    "Use your own MLP framework to perform image classification with the MNIST Dataset"
   ]
  },
  {
   "cell_type": "markdown",
   "metadata": {},
   "source": [
    "## Data"
   ]
  },
  {
   "cell_type": "code",
   "execution_count": 1,
   "metadata": {
    "ExecuteTime": {
     "end_time": "2020-05-02T16:22:10.242814Z",
     "start_time": "2020-05-02T16:21:51.827246Z"
    }
   },
   "outputs": [],
   "source": [
    "# get the data \n",
    "\n",
    "# use sklearn to download the dataset MNIST"
   ]
  },
  {
   "cell_type": "code",
   "execution_count": 1,
   "metadata": {
    "ExecuteTime": {
     "end_time": "2020-05-02T16:25:35.605074Z",
     "start_time": "2020-05-02T16:25:35.602071Z"
    }
   },
   "outputs": [],
   "source": [
    "# visualize images\n",
    "\n",
    "# plot some images along with their labels"
   ]
  },
  {
   "cell_type": "code",
   "execution_count": 2,
   "metadata": {
    "ExecuteTime": {
     "end_time": "2020-05-02T16:25:48.656823Z",
     "start_time": "2020-05-02T16:25:48.652823Z"
    }
   },
   "outputs": [],
   "source": [
    "# train-test split\n",
    "\n",
    "# keep some images for training, the rest for testing"
   ]
  },
  {
   "cell_type": "markdown",
   "metadata": {},
   "source": [
    "## Training"
   ]
  },
  {
   "cell_type": "code",
   "execution_count": 3,
   "metadata": {
    "ExecuteTime": {
     "end_time": "2020-05-02T16:26:23.048142Z",
     "start_time": "2020-05-02T16:26:23.045141Z"
    }
   },
   "outputs": [],
   "source": [
    "# put here your MLP classes or import them form a module"
   ]
  },
  {
   "cell_type": "code",
   "execution_count": 4,
   "metadata": {
    "ExecuteTime": {
     "end_time": "2020-05-02T16:27:05.953231Z",
     "start_time": "2020-05-02T16:27:05.951129Z"
    }
   },
   "outputs": [],
   "source": [
    "# training\n",
    "\n",
    "# train the model\n",
    "\n",
    "# once the model is trained, how many images from the test set can you classify correctly ?"
   ]
  },
  {
   "cell_type": "code",
   "execution_count": 5,
   "metadata": {
    "ExecuteTime": {
     "end_time": "2020-05-02T16:27:28.835580Z",
     "start_time": "2020-05-02T16:27:28.831580Z"
    }
   },
   "outputs": [],
   "source": [
    "# visualize results\n",
    "\n",
    "# plot some images from the test set along with their labels and predictions"
   ]
  }
 ],
 "metadata": {
  "kernelspec": {
   "display_name": "Python 3",
   "language": "python",
   "name": "python3"
  },
  "language_info": {
   "codemirror_mode": {
    "name": "ipython",
    "version": 3
   },
   "file_extension": ".py",
   "mimetype": "text/x-python",
   "name": "python",
   "nbconvert_exporter": "python",
   "pygments_lexer": "ipython3",
   "version": "3.7.6"
  },
  "toc": {
   "base_numbering": 1,
   "nav_menu": {},
   "number_sections": true,
   "sideBar": true,
   "skip_h1_title": false,
   "title_cell": "Table of Contents",
   "title_sidebar": "Contents",
   "toc_cell": false,
   "toc_position": {},
   "toc_section_display": true,
   "toc_window_display": false
  }
 },
 "nbformat": 4,
 "nbformat_minor": 4
}
