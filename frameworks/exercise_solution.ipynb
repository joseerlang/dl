{
 "cells": [
  {
   "cell_type": "markdown",
   "metadata": {},
   "source": [
    "[![Open In Colab](https://colab.research.google.com/assets/colab-badge.svg)](https://colab.research.google.com/github/sensioai/dl/blob/master/frameworks/exercise_solution.ipynb)"
   ]
  },
  {
   "cell_type": "markdown",
   "metadata": {
    "colab_type": "text",
    "id": "LPF8c-EOIMKD"
   },
   "source": [
    "# Frameworks - exercise (solution)\n",
    "\n",
    "Using Pytorch, code a Keras-like API to train a sequential model on the MNIST dataset."
   ]
  },
  {
   "cell_type": "code",
   "execution_count": 1,
   "metadata": {
    "ExecuteTime": {
     "end_time": "2020-05-11T10:54:07.125588Z",
     "start_time": "2020-05-11T10:54:06.417264Z"
    },
    "code_folding": [
     6,
     9,
     14,
     33,
     50,
     78,
     91
    ],
    "colab": {},
    "colab_type": "code",
    "id": "-4c-fp3qIJfj"
   },
   "outputs": [],
   "source": [
    "import torch\n",
    "from fastprogress import master_bar, progress_bar\n",
    "\n",
    "device = \"cuda\" if torch.cuda.is_available() else \"cpu\"\n",
    "\n",
    "class MyModel():\n",
    "  def __init__(self, net):\n",
    "    self.net = net\n",
    "\n",
    "  def compile(self, loss, optimizer, metrics):\n",
    "    self.loss = loss\n",
    "    self.optimizer = optimizer\n",
    "    self.metrics = metrics\n",
    "    \n",
    "  def train(self, dataloader):\n",
    "    self.net.train()\n",
    "    train_loss, train_metrics = [], [[] for m in self.metrics]\n",
    "    for X, y in progress_bar(dataloader, parent=self.mb):\n",
    "        X, y = X.to(device), y.to(device)  \n",
    "        self.optimizer.zero_grad()\n",
    "        output = self.net(X)\n",
    "        loss = self.loss(output, y)\n",
    "        loss.backward()\n",
    "        self.optimizer.step()\n",
    "        train_loss.append(loss.item())\n",
    "        comment = f'train_loss {np.mean(train_loss):.5f}'\n",
    "        for i, metric in enumerate(self.metrics):\n",
    "          train_metrics[i].append(metric(output, y))\n",
    "          comment += f' train_{metric.name} {np.mean(train_metrics[i]):.5f}'\n",
    "        self.mb.child.comment = comment\n",
    "    train_loss, train_metrics = np.mean(train_loss), [np.mean(metric) for metric in train_metrics]\n",
    "    return train_loss, train_metrics\n",
    "  \n",
    "  def eval(self, dataloader):\n",
    "    self.net.eval()\n",
    "    val_loss, val_metrics = [], [[] for m in self.metrics]\n",
    "    with torch.no_grad():\n",
    "        for X, y in progress_bar(dataloader, parent=self.mb):\n",
    "          X, y = X.to(device), y.to(device)  \n",
    "          output = self.net(X)\n",
    "          loss = self.loss(output, y)\n",
    "          val_loss.append(loss.item())\n",
    "          comment = f'val_loss {np.mean(val_loss):.5f}'\n",
    "          for i, metric in enumerate(self.metrics):\n",
    "            val_metrics[i].append(metric(output, y))\n",
    "            comment += f' val_{metric.name} {np.mean(val_metrics[i]):.5f}'\n",
    "          self.mb.child.comment = comment\n",
    "        val_loss, val_metrics = np.mean(val_loss), [np.mean(metric) for metric in val_metrics]\n",
    "        return val_loss, val_metrics\n",
    "\n",
    "  def fit(self, dataloader, val_dataloader, epochs=100):\n",
    "    self.net.to(device)\n",
    "    \n",
    "    self.history = {\"train_loss\": [], \"val_loss\": []}\n",
    "    for metric in self.metrics:\n",
    "      self.history[f'train_{metric.name}'] = []\n",
    "      self.history[f'val_{metric.name}'] = []\n",
    "      \n",
    "    self.mb = master_bar(range(1, epochs+1))\n",
    "    for epoch in self.mb:\n",
    "      # train\n",
    "      train_loss, train_metrics = self.train(dataloader)\n",
    "      # eval\n",
    "      val_loss, val_metrics = self.eval(val_dataloader)\n",
    "      # save metrics\n",
    "      self.history[\"train_loss\"].append(train_loss)\n",
    "      self.history[\"val_loss\"].append(val_loss)\n",
    "      for i, metric in enumerate(self.metrics):\n",
    "        self.history[f'train_{metric.name}'].append(train_metrics[i])\n",
    "        self.history[f'val_{metric.name}'].append(val_metrics[i])\n",
    "      # plot bar\n",
    "      comment = f'Epoch {epoch}/{epochs} train_loss {train_loss:.5f} val_loss {val_loss:.5f}'\n",
    "      for i, metric in enumerate(self.metrics):\n",
    "        comment += f' train_{metric.name} {train_metrics[i]:.5f} val_{metric.name} {val_metrics[i]:.5f}'\n",
    "      self.mb.write(comment)\n",
    "    \n",
    "    return self.history\n",
    "\n",
    "  def predict(self, dataloader):\n",
    "    self.net.to(device)\n",
    "    self.net.eval()\n",
    "    self.mb = master_bar(range(0, 1))\n",
    "    preds = torch.tensor([])\n",
    "    for e in self.mb:\n",
    "        with torch.no_grad():\n",
    "            for X in progress_bar(dataloader, parent=self.mb):\n",
    "                X = X.to(device)\n",
    "                pred = torch.softmax(self.net(X), axis=1)\n",
    "                preds = torch.cat([preds, pred.cpu()])\n",
    "    return preds\n",
    "\n",
    "  def evaluate(self, dataloader):\n",
    "    self.net.to(device)\n",
    "    self.mb = master_bar(range(0, 1))\n",
    "    for e in self.mb:\n",
    "        val_loss, val_metrics = self.eval(dataloader)\n",
    "        bar_text = f' val_loss {val_loss:.5f}'\n",
    "        for i, metric in enumerate(self.metrics):\n",
    "            bar_text += f' val_{metric.name} {val_metrics[i]:.5f}'\n",
    "        self.mb.write(bar_text)"
   ]
  },
  {
   "cell_type": "code",
   "execution_count": 2,
   "metadata": {
    "ExecuteTime": {
     "end_time": "2020-05-11T10:54:07.141105Z",
     "start_time": "2020-05-11T10:54:07.126590Z"
    },
    "colab": {},
    "colab_type": "code",
    "id": "_FeFzmWHMEJg"
   },
   "outputs": [],
   "source": [
    "class Accuracy():\n",
    "  def __init__(self):\n",
    "    self.name = \"acc\"\n",
    "  \n",
    "  def __call__(self, output, labels):\n",
    "    return (torch.argmax(output, axis=1) == labels).sum().item() / labels.shape[0] "
   ]
  },
  {
   "cell_type": "code",
   "execution_count": 3,
   "metadata": {
    "ExecuteTime": {
     "end_time": "2020-05-11T10:54:07.157105Z",
     "start_time": "2020-05-11T10:54:07.142107Z"
    }
   },
   "outputs": [],
   "source": [
    "class MyDataset():\n",
    "    def __init__(self, images, labels=None, train=True):\n",
    "        self.train = train\n",
    "        self.images = images\n",
    "        self.labels = labels\n",
    "    \n",
    "    def __len__(self):\n",
    "        return len(self.images)\n",
    "    \n",
    "    def __getitem__(self, ix):\n",
    "        img = self.images[ix]\n",
    "        img = torch.from_numpy(img / 255).float()\n",
    "        if self.train:\n",
    "            label = torch.tensor(self.labels[ix]).long()\n",
    "            return img, label\n",
    "        return img"
   ]
  },
  {
   "cell_type": "markdown",
   "metadata": {
    "colab_type": "text",
    "id": "y95rplvBMbTx"
   },
   "source": [
    "The following code should work\n"
   ]
  },
  {
   "cell_type": "code",
   "execution_count": 4,
   "metadata": {
    "ExecuteTime": {
     "end_time": "2020-05-11T10:54:27.672279Z",
     "start_time": "2020-05-11T10:54:07.158106Z"
    },
    "colab": {},
    "colab_type": "code",
    "id": "bsJk7ky7JGa2"
   },
   "outputs": [],
   "source": [
    "# download dataset\n",
    "\n",
    "from sklearn.datasets import fetch_openml\n",
    "from sklearn.model_selection import train_test_split\n",
    "import numpy as np\n",
    "\n",
    "X, y = fetch_openml('mnist_784', version=1, return_X_y=True)\n",
    "\n",
    "y = y.astype(np.int)\n",
    "\n",
    "X_train, X_test, y_train, y_test = train_test_split(X, y, test_size=0.2)\n",
    "X_train, X_eval, y_train, y_eval = train_test_split(X_train, y_train, test_size=0.2)"
   ]
  },
  {
   "cell_type": "code",
   "execution_count": 5,
   "metadata": {
    "ExecuteTime": {
     "end_time": "2020-05-11T10:54:27.687286Z",
     "start_time": "2020-05-11T10:54:27.673280Z"
    }
   },
   "outputs": [],
   "source": [
    "# define dataloaders\n",
    "\n",
    "from torch.utils.data import DataLoader\n",
    "\n",
    "datasets = {\n",
    "    'train': MyDataset(X_train, y_train),\n",
    "    'eval': MyDataset(X_eval, y_eval),\n",
    "    'test': MyDataset(X_test, train=False)\n",
    "}\n",
    "\n",
    "bs = 32\n",
    "dataloaders = {\n",
    "    'train': DataLoader(datasets['train'], shuffle=True, batch_size=bs),\n",
    "    'eval': DataLoader(datasets['eval'], shuffle=False, batch_size=bs),\n",
    "    'test': DataLoader(datasets['test'], shuffle=False, batch_size=bs)\n",
    "}"
   ]
  },
  {
   "cell_type": "code",
   "execution_count": 6,
   "metadata": {
    "ExecuteTime": {
     "end_time": "2020-05-11T10:55:10.296298Z",
     "start_time": "2020-05-11T10:54:27.688285Z"
    },
    "colab": {
     "base_uri": "https://localhost:8080/",
     "height": 251
    },
    "colab_type": "code",
    "executionInfo": {
     "elapsed": 65150,
     "status": "ok",
     "timestamp": 1584972777956,
     "user": {
      "displayName": "Juan B. Pedro",
      "photoUrl": "https://lh3.googleusercontent.com/a-/AOh14GhWgAzHaZEfUQ37UFPks7-k3-muJ6YMlGogBy-2JA=s64",
      "userId": "14564361589067109105"
     },
     "user_tz": -60
    },
    "id": "56LxclkjMVa2",
    "outputId": "d708e34e-cdc2-44e7-8cda-525b39b2d557"
   },
   "outputs": [
    {
     "data": {
      "text/html": [
       "Epoch 1/10 train_loss 1.00894 val_loss 0.48493 train_acc 0.78112 val_acc 0.87491<p>Epoch 2/10 train_loss 0.41134 val_loss 0.36780 train_acc 0.88879 val_acc 0.90045<p>Epoch 3/10 train_loss 0.34414 val_loss 0.32784 train_acc 0.90279 val_acc 0.90643<p>Epoch 4/10 train_loss 0.31300 val_loss 0.30483 train_acc 0.91069 val_acc 0.91223<p>Epoch 5/10 train_loss 0.29154 val_loss 0.28994 train_acc 0.91625 val_acc 0.91571<p>Epoch 6/10 train_loss 0.27418 val_loss 0.27239 train_acc 0.92185 val_acc 0.92125<p>Epoch 7/10 train_loss 0.25876 val_loss 0.25770 train_acc 0.92683 val_acc 0.92437<p>Epoch 8/10 train_loss 0.24498 val_loss 0.24823 train_acc 0.93132 val_acc 0.92723<p>Epoch 9/10 train_loss 0.23225 val_loss 0.23699 train_acc 0.93520 val_acc 0.92929<p>Epoch 10/10 train_loss 0.22092 val_loss 0.22548 train_acc 0.93815 val_acc 0.93393"
      ],
      "text/plain": [
       "<IPython.core.display.HTML object>"
      ]
     },
     "metadata": {},
     "output_type": "display_data"
    }
   ],
   "source": [
    "# train the network\n",
    "\n",
    "net = torch.nn.Sequential(\n",
    "  torch.nn.Linear(28*28, 100),\n",
    "  torch.nn.ReLU(),\n",
    "  torch.nn.Linear(100, 10)    \n",
    ")\n",
    "\n",
    "model = MyModel(net)\n",
    "\n",
    "model.compile(loss=torch.nn.CrossEntropyLoss(),\n",
    "              optimizer=torch.optim.SGD(net.parameters(), lr=0.01),\n",
    "              metrics=[Accuracy()])\n",
    "\n",
    "history = model.fit(dataloaders['train'], dataloaders['eval'], epochs=10)"
   ]
  },
  {
   "cell_type": "code",
   "execution_count": 7,
   "metadata": {
    "ExecuteTime": {
     "end_time": "2020-05-11T10:55:10.660666Z",
     "start_time": "2020-05-11T10:55:10.297297Z"
    },
    "colab": {
     "base_uri": "https://localhost:8080/",
     "height": 324
    },
    "colab_type": "code",
    "executionInfo": {
     "elapsed": 73190,
     "status": "ok",
     "timestamp": 1584970074979,
     "user": {
      "displayName": "Juan B. Pedro",
      "photoUrl": "https://lh3.googleusercontent.com/a-/AOh14GhWgAzHaZEfUQ37UFPks7-k3-muJ6YMlGogBy-2JA=s64",
      "userId": "14564361589067109105"
     },
     "user_tz": -60
    },
    "id": "vzy4FZUkL3V-",
    "outputId": "7919db71-3da2-4f57-8c6f-daf4efe33743"
   },
   "outputs": [
    {
     "data": {
      "image/png": "[encoded data removed]",
      "text/plain": [
       "<Figure size 576x360 with 1 Axes>"
      ]
     },
     "metadata": {
      "needs_background": "light"
     },
     "output_type": "display_data"
    }
   ],
   "source": [
    "# plot learning curves\n",
    "\n",
    "import pandas as pd\n",
    "import matplotlib.pyplot as plt\n",
    "\n",
    "pd.DataFrame(history).plot(figsize=(8, 5))\n",
    "plt.grid(True)\n",
    "plt.gca().set_ylim(0, 1)\n",
    "plt.show()"
   ]
  },
  {
   "cell_type": "code",
   "execution_count": 8,
   "metadata": {
    "ExecuteTime": {
     "end_time": "2020-05-11T10:55:11.202688Z",
     "start_time": "2020-05-11T10:55:10.664667Z"
    },
    "colab": {
     "base_uri": "https://localhost:8080/",
     "height": 35
    },
    "colab_type": "code",
    "executionInfo": {
     "elapsed": 73184,
     "status": "ok",
     "timestamp": 1584970074979,
     "user": {
      "displayName": "Juan B. Pedro",
      "photoUrl": "https://lh3.googleusercontent.com/a-/AOh14GhWgAzHaZEfUQ37UFPks7-k3-muJ6YMlGogBy-2JA=s64",
      "userId": "14564361589067109105"
     },
     "user_tz": -60
    },
    "id": "Ssg8XxJYL8gk",
    "outputId": "6fb53048-fcab-454c-f9ec-ff2eb060fe42"
   },
   "outputs": [
    {
     "data": {
      "text/html": [
       " val_loss 0.22548 val_acc 0.93393"
      ],
      "text/plain": [
       "<IPython.core.display.HTML object>"
      ]
     },
     "metadata": {},
     "output_type": "display_data"
    }
   ],
   "source": [
    "# evaluate the model\n",
    "\n",
    "model.evaluate(dataloaders['eval'])"
   ]
  },
  {
   "cell_type": "code",
   "execution_count": 9,
   "metadata": {
    "ExecuteTime": {
     "end_time": "2020-05-11T10:55:11.581687Z",
     "start_time": "2020-05-11T10:55:11.203689Z"
    },
    "colab": {
     "base_uri": "https://localhost:8080/",
     "height": 208
    },
    "colab_type": "code",
    "executionInfo": {
     "elapsed": 73181,
     "status": "ok",
     "timestamp": 1584970074980,
     "user": {
      "displayName": "Juan B. Pedro",
      "photoUrl": "https://lh3.googleusercontent.com/a-/AOh14GhWgAzHaZEfUQ37UFPks7-k3-muJ6YMlGogBy-2JA=s64",
      "userId": "14564361589067109105"
     },
     "user_tz": -60
    },
    "id": "EpOdYM77L_0Q",
    "outputId": "ea7db789-411d-4e0d-b69b-eee54a1a26ad"
   },
   "outputs": [
    {
     "data": {
      "text/html": [],
      "text/plain": [
       "<IPython.core.display.HTML object>"
      ]
     },
     "metadata": {},
     "output_type": "display_data"
    }
   ],
   "source": [
    "# get new predictions\n",
    "\n",
    "y_proba = model.predict(dataloaders['test'])\n",
    "y_pred = torch.argmax(y_proba, axis=1)"
   ]
  },
  {
   "cell_type": "code",
   "execution_count": 10,
   "metadata": {
    "ExecuteTime": {
     "end_time": "2020-05-11T10:55:12.360691Z",
     "start_time": "2020-05-11T10:55:11.582688Z"
    },
    "colab": {
     "base_uri": "https://localhost:8080/",
     "height": 177
    },
    "colab_type": "code",
    "executionInfo": {
     "elapsed": 73623,
     "status": "ok",
     "timestamp": 1584970075426,
     "user": {
      "displayName": "Juan B. Pedro",
      "photoUrl": "https://lh3.googleusercontent.com/a-/AOh14GhWgAzHaZEfUQ37UFPks7-k3-muJ6YMlGogBy-2JA=s64",
      "userId": "14564361589067109105"
     },
     "user_tz": -60
    },
    "id": "M6UMvIpHMBZE",
    "outputId": "750c5274-fb87-4147-913b-528ef29ec692"
   },
   "outputs": [
    {
     "data": {
      "image/png": "[encoded data removed]",
      "text/plain": [
       "<Figure size 691.2x432 with 40 Axes>"
      ]
     },
     "metadata": {
      "needs_background": "light"
     },
     "output_type": "display_data"
    }
   ],
   "source": [
    "# visualize some new predictions\n",
    "\n",
    "import random\n",
    "\n",
    "r, c = 5, 8\n",
    "plt.figure(figsize=(c*1.2, r*1.2))\n",
    "for row in range(r):\n",
    "    for col in range(c):\n",
    "        plt.subplot(r, c, c*row+col+1)\n",
    "        ix = random.randint(0, len(datasets['test']))\n",
    "        img = datasets['test'][ix]\n",
    "        plt.imshow(img.reshape(28,28), cmap=\"binary\", interpolation=\"nearest\")\n",
    "        plt.axis('off')\n",
    "        pred = y_pred[ix].item()\n",
    "        plt.title(pred, fontsize=12)\n",
    "plt.tight_layout()\n",
    "plt.show()"
   ]
  }
 ],
 "metadata": {
  "accelerator": "GPU",
  "colab": {
   "authorship_tag": "ABX9TyNkbShswmIdKE04DKn9PHPJ",
   "collapsed_sections": [],
   "name": "3_frameworks_solution.ipynb",
   "provenance": []
  },
  "kernelspec": {
   "display_name": "Python 3",
   "language": "python",
   "name": "python3"
  },
  "language_info": {
   "codemirror_mode": {
    "name": "ipython",
    "version": 3
   },
   "file_extension": ".py",
   "mimetype": "text/x-python",
   "name": "python",
   "nbconvert_exporter": "python",
   "pygments_lexer": "ipython3",
   "version": "3.7.6"
  },
  "toc": {
   "base_numbering": 1,
   "nav_menu": {},
   "number_sections": true,
   "sideBar": true,
   "skip_h1_title": false,
   "title_cell": "Table of Contents",
   "title_sidebar": "Contents",
   "toc_cell": false,
   "toc_position": {},
   "toc_section_display": true,
   "toc_window_display": false
  }
 },
 "nbformat": 4,
 "nbformat_minor": 1
}
