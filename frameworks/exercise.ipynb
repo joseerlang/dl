{
 "cells": [
  {
   "cell_type": "markdown",
   "metadata": {},
   "source": [
    "[![Open In Colab](https://colab.research.google.com/assets/colab-badge.svg)](https://colab.research.google.com/github/sensioai/dl/blob/master/frameworks/exercise.ipynb)"
   ]
  },
  {
   "cell_type": "markdown",
   "metadata": {
    "colab_type": "text",
    "id": "LPF8c-EOIMKD"
   },
   "source": [
    "# Frameworks - exercise\n",
    "\n",
    "Using Pytorch, code a Keras-like API to train a sequential model on the MNIST dataset."
   ]
  },
  {
   "cell_type": "code",
   "execution_count": null,
   "metadata": {
    "ExecuteTime": {
     "end_time": "2020-05-11T10:40:37.731769Z",
     "start_time": "2020-05-11T10:40:36.998158Z"
    },
    "code_folding": [],
    "colab": {},
    "colab_type": "code",
    "id": "-4c-fp3qIJfj"
   },
   "outputs": [],
   "source": [
    "import torch\n",
    "from fastprogress import master_bar, progress_bar\n",
    "\n",
    "device = \"cuda\" if torch.cuda.is_available() else \"cpu\"\n",
    "\n",
    "class MyModel():\n",
    "  def __init__(self, net):\n",
    "    # save the net to use across the model\n",
    "\n",
    "  def compile(self, loss, optimizer, metrics):\n",
    "    # save the loss, optimizer and metrics to use across the model\n",
    "    \n",
    "  def train(self, dataloader):    \n",
    "    # iterate through the dataloader optimizing the network\n",
    "    # and computing the loss and metrics\n",
    "      \n",
    "  def eval(self, dataloader):    \n",
    "    # iterate through the dataloader computing the loss and metrics\n",
    "    \n",
    "  def fit(self, dataloader, val_dataloader, epochs=100):\n",
    "    # iterate for some epochs, training and evaluating the network\n",
    "    # return an object with the learning statistics\n",
    "    \n",
    "  def predict(self, dataloader):    \n",
    "    # iterate through the dataloader and return predictions\n",
    "\n",
    "  def evaluate(self, dataloader):    \n",
    "    # iterate through the dataloader and compute loss and metrics\n",
    "    # (you can call the `eval` function)"
   ]
  },
  {
   "cell_type": "code",
   "execution_count": null,
   "metadata": {
    "ExecuteTime": {
     "end_time": "2020-05-11T10:40:37.747769Z",
     "start_time": "2020-05-11T10:40:37.732771Z"
    },
    "colab": {},
    "colab_type": "code",
    "id": "_FeFzmWHMEJg"
   },
   "outputs": [],
   "source": [
    "class Accuracy():\n",
    "  def __init__(self):\n",
    "    self.name = \"acc\"\n",
    "  \n",
    "  def __call__(self, output, labels):\n",
    "    # compute and return the accuracy "
   ]
  },
  {
   "cell_type": "code",
   "execution_count": null,
   "metadata": {
    "ExecuteTime": {
     "end_time": "2020-05-11T10:53:28.138074Z",
     "start_time": "2020-05-11T10:53:28.118025Z"
    }
   },
   "outputs": [],
   "source": [
    "class MyDataset():\n",
    "    def __init__(self, images, labels=None, train=True):\n",
    "        self.train = train\n",
    "        self.images = images\n",
    "        self.labels = labels\n",
    "    \n",
    "    def __len__(self):\n",
    "        return len(self.images)\n",
    "    \n",
    "    def __getitem__(self, ix):\n",
    "        # return and image and a label (training and evluation)\n",
    "        # return only an image for testing\n",
    "        \n",
    "        # remember to normalize images !"
   ]
  },
  {
   "cell_type": "markdown",
   "metadata": {
    "colab_type": "text",
    "id": "y95rplvBMbTx"
   },
   "source": [
    "The following code should work"
   ]
  },
  {
   "cell_type": "code",
   "execution_count": null,
   "metadata": {
    "ExecuteTime": {
     "end_time": "2020-05-11T10:40:58.440906Z",
     "start_time": "2020-05-11T10:40:37.764770Z"
    },
    "colab": {},
    "colab_type": "code",
    "id": "bsJk7ky7JGa2"
   },
   "outputs": [],
   "source": [
    "# download dataset\n",
    "\n",
    "from sklearn.datasets import fetch_openml\n",
    "from sklearn.model_selection import train_test_split\n",
    "import numpy as np\n",
    "\n",
    "X, y = fetch_openml('mnist_784', version=1, return_X_y=True)\n",
    "\n",
    "y = y.astype(np.int)\n",
    "\n",
    "X_train, X_test, y_train, y_test = train_test_split(X, y, test_size=0.2)\n",
    "X_train, X_eval, y_train, y_eval = train_test_split(X_train, y_train, test_size=0.2)"
   ]
  },
  {
   "cell_type": "code",
   "execution_count": null,
   "metadata": {
    "ExecuteTime": {
     "end_time": "2020-05-11T10:40:58.455906Z",
     "start_time": "2020-05-11T10:40:58.441910Z"
    }
   },
   "outputs": [],
   "source": [
    "# define datasets and dataloaders\n",
    "\n",
    "from torch.utils.data import DataLoader\n",
    "\n",
    "datasets = {\n",
    "    'train': MyDataset(X_train, y_train),\n",
    "    'eval': MyDataset(X_eval, y_eval),\n",
    "    'test': MyDataset(X_test, train=False)\n",
    "}\n",
    "\n",
    "bs = 32\n",
    "dataloaders = {\n",
    "    'train': DataLoader(datasets['train'], shuffle=True, batch_size=bs),\n",
    "    'eval': DataLoader(datasets['eval'], shuffle=False, batch_size=bs),\n",
    "    'test': DataLoader(datasets['test'], shuffle=False, batch_size=bs)\n",
    "}"
   ]
  },
  {
   "cell_type": "code",
   "execution_count": null,
   "metadata": {
    "ExecuteTime": {
     "end_time": "2020-05-11T10:41:40.672613Z",
     "start_time": "2020-05-11T10:40:58.456909Z"
    },
    "colab": {
     "base_uri": "https://localhost:8080/",
     "height": 251
    },
    "colab_type": "code",
    "executionInfo": {
     "elapsed": 65150,
     "status": "ok",
     "timestamp": 1584972777956,
     "user": {
      "displayName": "Juan B. Pedro",
      "photoUrl": "https://lh3.googleusercontent.com/a-/AOh14GhWgAzHaZEfUQ37UFPks7-k3-muJ6YMlGogBy-2JA=s64",
      "userId": "14564361589067109105"
     },
     "user_tz": -60
    },
    "id": "56LxclkjMVa2",
    "outputId": "d708e34e-cdc2-44e7-8cda-525b39b2d557"
   },
   "outputs": [],
   "source": [
    "# train the network\n",
    "\n",
    "net = torch.nn.Sequential(\n",
    "  torch.nn.Linear(28*28, 100),\n",
    "  torch.nn.ReLU(),\n",
    "  torch.nn.Linear(100, 10)    \n",
    ")\n",
    "\n",
    "model = MyModel(net)\n",
    "\n",
    "model.compile(loss=torch.nn.CrossEntropyLoss(),\n",
    "              optimizer=torch.optim.SGD(net.parameters(), lr=0.01),\n",
    "              metrics=[Accuracy()])\n",
    "\n",
    "history = model.fit(dataloaders['train'], dataloaders['eval'], epochs=10)"
   ]
  },
  {
   "cell_type": "code",
   "execution_count": null,
   "metadata": {
    "ExecuteTime": {
     "end_time": "2020-05-11T10:41:41.052611Z",
     "start_time": "2020-05-11T10:41:40.673610Z"
    },
    "colab": {
     "base_uri": "https://localhost:8080/",
     "height": 324
    },
    "colab_type": "code",
    "executionInfo": {
     "elapsed": 73190,
     "status": "ok",
     "timestamp": 1584970074979,
     "user": {
      "displayName": "Juan B. Pedro",
      "photoUrl": "https://lh3.googleusercontent.com/a-/AOh14GhWgAzHaZEfUQ37UFPks7-k3-muJ6YMlGogBy-2JA=s64",
      "userId": "14564361589067109105"
     },
     "user_tz": -60
    },
    "id": "vzy4FZUkL3V-",
    "outputId": "7919db71-3da2-4f57-8c6f-daf4efe33743"
   },
   "outputs": [],
   "source": [
    "# plot learning curves\n",
    "\n",
    "import pandas as pd\n",
    "import matplotlib.pyplot as plt\n",
    "\n",
    "pd.DataFrame(history).plot(figsize=(8, 5))\n",
    "plt.grid(True)\n",
    "plt.gca().set_ylim(0, 1)\n",
    "plt.show()"
   ]
  },
  {
   "cell_type": "code",
   "execution_count": null,
   "metadata": {
    "ExecuteTime": {
     "end_time": "2020-05-11T10:41:41.590670Z",
     "start_time": "2020-05-11T10:41:41.056613Z"
    },
    "colab": {
     "base_uri": "https://localhost:8080/",
     "height": 35
    },
    "colab_type": "code",
    "executionInfo": {
     "elapsed": 73184,
     "status": "ok",
     "timestamp": 1584970074979,
     "user": {
      "displayName": "Juan B. Pedro",
      "photoUrl": "https://lh3.googleusercontent.com/a-/AOh14GhWgAzHaZEfUQ37UFPks7-k3-muJ6YMlGogBy-2JA=s64",
      "userId": "14564361589067109105"
     },
     "user_tz": -60
    },
    "id": "Ssg8XxJYL8gk",
    "outputId": "6fb53048-fcab-454c-f9ec-ff2eb060fe42"
   },
   "outputs": [],
   "source": [
    "# evaluate the model\n",
    "\n",
    "model.evaluate(dataloaders['eval'])"
   ]
  },
  {
   "cell_type": "code",
   "execution_count": null,
   "metadata": {
    "ExecuteTime": {
     "end_time": "2020-05-11T10:41:41.985695Z",
     "start_time": "2020-05-11T10:41:41.591673Z"
    },
    "colab": {
     "base_uri": "https://localhost:8080/",
     "height": 208
    },
    "colab_type": "code",
    "executionInfo": {
     "elapsed": 73181,
     "status": "ok",
     "timestamp": 1584970074980,
     "user": {
      "displayName": "Juan B. Pedro",
      "photoUrl": "https://lh3.googleusercontent.com/a-/AOh14GhWgAzHaZEfUQ37UFPks7-k3-muJ6YMlGogBy-2JA=s64",
      "userId": "14564361589067109105"
     },
     "user_tz": -60
    },
    "id": "EpOdYM77L_0Q",
    "outputId": "ea7db789-411d-4e0d-b69b-eee54a1a26ad"
   },
   "outputs": [],
   "source": [
    "# get new predictions\n",
    "\n",
    "y_proba = model.predict(dataloaders['test'])\n",
    "y_pred = torch.argmax(y_proba, axis=1)"
   ]
  },
  {
   "cell_type": "code",
   "execution_count": null,
   "metadata": {
    "ExecuteTime": {
     "end_time": "2020-05-11T10:46:14.535420Z",
     "start_time": "2020-05-11T10:46:13.711279Z"
    },
    "colab": {
     "base_uri": "https://localhost:8080/",
     "height": 177
    },
    "colab_type": "code",
    "executionInfo": {
     "elapsed": 73623,
     "status": "ok",
     "timestamp": 1584970075426,
     "user": {
      "displayName": "Juan B. Pedro",
      "photoUrl": "https://lh3.googleusercontent.com/a-/AOh14GhWgAzHaZEfUQ37UFPks7-k3-muJ6YMlGogBy-2JA=s64",
      "userId": "14564361589067109105"
     },
     "user_tz": -60
    },
    "id": "M6UMvIpHMBZE",
    "outputId": "750c5274-fb87-4147-913b-528ef29ec692"
   },
   "outputs": [],
   "source": [
    "# visualize some new predictions\n",
    "\n",
    "import random\n",
    "\n",
    "r, c = 5, 8\n",
    "plt.figure(figsize=(c*1.2, r*1.2))\n",
    "for row in range(r):\n",
    "    for col in range(c):\n",
    "        plt.subplot(r, c, c*row+col+1)\n",
    "        ix = random.randint(0, len(datasets['test']))\n",
    "        img = datasets['test'][ix]\n",
    "        plt.imshow(img.reshape(28,28), cmap=\"binary\", interpolation=\"nearest\")\n",
    "        plt.axis('off')\n",
    "        pred = y_pred[ix].item()\n",
    "        plt.title(pred, fontsize=12)\n",
    "plt.tight_layout()\n",
    "plt.show()"
   ]
  }
 ],
 "metadata": {
  "accelerator": "GPU",
  "colab": {
   "authorship_tag": "ABX9TyNkbShswmIdKE04DKn9PHPJ",
   "collapsed_sections": [],
   "name": "3_frameworks_solution.ipynb",
   "provenance": []
  },
  "kernelspec": {
   "display_name": "Python 3",
   "language": "python",
   "name": "python3"
  },
  "language_info": {
   "codemirror_mode": {
    "name": "ipython",
    "version": 3
   },
   "file_extension": ".py",
   "mimetype": "text/x-python",
   "name": "python",
   "nbconvert_exporter": "python",
   "pygments_lexer": "ipython3",
   "version": "3.7.6"
  },
  "toc": {
   "base_numbering": 1,
   "nav_menu": {},
   "number_sections": true,
   "sideBar": true,
   "skip_h1_title": false,
   "title_cell": "Table of Contents",
   "title_sidebar": "Contents",
   "toc_cell": false,
   "toc_position": {},
   "toc_section_display": true,
   "toc_window_display": false
  }
 },
 "nbformat": 4,
 "nbformat_minor": 1
}
