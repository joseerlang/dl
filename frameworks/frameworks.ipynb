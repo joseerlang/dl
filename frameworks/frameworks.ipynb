{
 "cells": [
  {
   "cell_type": "markdown",
   "metadata": {},
   "source": [
    "[![Open In Colab](https://colab.research.google.com/assets/colab-badge.svg)](https://colab.research.google.com/github/sensioai/dl/blob/master/frameworks/frameworks.ipynb)"
   ]
  },
  {
   "cell_type": "markdown",
   "metadata": {},
   "source": [
    "# Neural Network Frameworks"
   ]
  },
  {
   "cell_type": "markdown",
   "metadata": {},
   "source": [
    "A deep learning *framework* is a library, a set of tools developed to make our lives easiear when it comes to train neural networks. These are some of the advantages than frameworks provide:\n",
    "\n",
    "- Optimized code\n",
    "- Parallel processing (GPUs, TPUs, ...)\n",
    "- Comunity support (new architectures, datasets ...)\n",
    "\n",
    "All available frameworks have (more or less) the same capabilities, so in the end it is a matter of preference when it comes to choose on framework. Some factors that may impact our choice are:\n",
    "\n",
    "- Ease of use (understanding what you are doing).\n",
    "- Ecosystem: research, developement and production (servers, web, mobile, IoT).\n",
    "\n",
    "Deep Learning is a very importat technology, but in order to unleash its potential it is important than professionals not usually releated to the *computer science* field can make use of it (doctors, architects, historians, artists, athlets, professors ...). This means that the easier a deep learning framework is to use, the most impact can it have.  "
   ]
  },
  {
   "cell_type": "markdown",
   "metadata": {},
   "source": [
    "## Tensorflow\n",
    "\n",
    "![tf](https://i1.wp.com/s3-ap-south-1.amazonaws.com/av-blog-media/wp-content/uploads/2019/02/Tensorflow.png?resize=300%2C168&ssl=1)\n",
    "\n",
    "[Tensorflow](https://www.tensorflow.org/) is the most used deep learning framework in the industry. Developed by Google, it stands out thanks to its great ecosystem. Version 1.X has been famous because of its *difficulty* of understanding and use. It is based on a programming paradigm far from what we are used (it requires to define all the operations of the neural network in a computational graph and then run it). This fact propiciated the appearnce of high-level libraries, such as [Keras](https://keras.io/), to make working with Tensorflow simpler. With the release of Tensorflow 2.0, Keras now comes integrated in Tensorflow and thanks to the *eager mode* by default, now programming with Tensorflow is more accesible."
   ]
  },
  {
   "cell_type": "markdown",
   "metadata": {},
   "source": [
    "## Pytorch\n",
    "\n",
    "![pytorch](https://i0.wp.com/s3-ap-south-1.amazonaws.com/av-blog-media/wp-content/uploads/2019/02/pytorch.jpeg?resize=268%2C188&ssl=1)\n",
    "\n",
    "Developed by Facebook, [Pytorch](https://pytorch.org/) stands out thanks to its ease of use and flexibility. It is growing in popularity since it's appearance and today it is the preferred choice among researchers. It is also usually the framework used by top winners in DL competitions like Kaggle. A high-level (Keras-like) library also exist to simplify even more working with Pytorch called [fast.ai](https://www.fast.ai/)"
   ]
  },
  {
   "cell_type": "markdown",
   "metadata": {},
   "source": [
    "## Other frameworks\n",
    "\n",
    "- [MXNet](https://mxnet.apache.org/) (Amazon)\n",
    "- [CNTK](https://github.com/microsoft/CNTK) (Microsoft)\n",
    "- [CoreML](https://developer.apple.com/documentation/coreml) (Apple - iOS)\n",
    "- [Chainer](https://chainer.org/)"
   ]
  },
  {
   "cell_type": "markdown",
   "metadata": {},
   "source": [
    "## Interoperability\n",
    "\n",
    "Some projects are now appearing with the objective of *standarizing* the representation of neural networks so they can be used transparently in any framework (maybe define and train a model in Tensorflow, save it and open it in Pytorch to fine-tune). The best current project on this topic is [ONNX](https://onnx.ai/). Having a common standarized way of representing NNs also allows for optimization (quantization, pruning, ...) and smaller runtimes (important for prodction, specially in IoT)."
   ]
  },
  {
   "cell_type": "markdown",
   "metadata": {
    "ExecuteTime": {
     "end_time": "2020-05-11T08:00:51.169515Z",
     "start_time": "2020-05-11T08:00:51.153516Z"
    }
   },
   "source": [
    "# Tensorflow & Keras"
   ]
  },
  {
   "cell_type": "markdown",
   "metadata": {},
   "source": [
    "Let's see how to build our MLP with Keras for a classification task."
   ]
  },
  {
   "cell_type": "code",
   "execution_count": 1,
   "metadata": {
    "ExecuteTime": {
     "end_time": "2020-05-11T09:24:11.715457Z",
     "start_time": "2020-05-11T09:24:09.485458Z"
    }
   },
   "outputs": [
    {
     "data": {
      "text/plain": [
       "'2.2.0'"
      ]
     },
     "execution_count": 1,
     "metadata": {},
     "output_type": "execute_result"
    }
   ],
   "source": [
    "import tensorflow as tf\n",
    "from tensorflow import keras\n",
    "tf.__version__"
   ]
  },
  {
   "cell_type": "markdown",
   "metadata": {},
   "source": [
    "Keras has a number of functions to load popular datasets in [keras.datasets](https://www.tensorflow.org/api_docs/python/tf/keras/datasets). The dataset is already split for you between a training set and a test set, but it can be useful to split the training set further to have a validation set"
   ]
  },
  {
   "cell_type": "code",
   "execution_count": 2,
   "metadata": {
    "ExecuteTime": {
     "end_time": "2020-05-11T09:24:11.949488Z",
     "start_time": "2020-05-11T09:24:11.716457Z"
    }
   },
   "outputs": [
    {
     "data": {
      "text/plain": [
       "(60000, 28, 28)"
      ]
     },
     "execution_count": 2,
     "metadata": {},
     "output_type": "execute_result"
    }
   ],
   "source": [
    "mnist = keras.datasets.mnist\n",
    "(X_train_full, y_train_full), (X_test, y_test) = mnist.load_data()\n",
    "\n",
    "X_train_full.shape"
   ]
  },
  {
   "cell_type": "markdown",
   "metadata": {},
   "source": [
    "In an image, each pixel is represented by an *uint8* (unsigned 8-bit integer with values between 0-255)."
   ]
  },
  {
   "cell_type": "code",
   "execution_count": 3,
   "metadata": {
    "ExecuteTime": {
     "end_time": "2020-05-11T09:24:12.028487Z",
     "start_time": "2020-05-11T09:24:11.950488Z"
    }
   },
   "outputs": [
    {
     "data": {
      "text/plain": [
       "(dtype('uint8'), 255, 0)"
      ]
     },
     "execution_count": 3,
     "metadata": {},
     "output_type": "execute_result"
    }
   ],
   "source": [
    "X_train_full.dtype, X_train_full.max(), X_train_full.min()"
   ]
  },
  {
   "cell_type": "markdown",
   "metadata": {},
   "source": [
    "For training Neural Networks we normalize images so they are in the range 0-1."
   ]
  },
  {
   "cell_type": "code",
   "execution_count": 4,
   "metadata": {
    "ExecuteTime": {
     "end_time": "2020-05-11T09:24:12.170489Z",
     "start_time": "2020-05-11T09:24:12.029487Z"
    }
   },
   "outputs": [
    {
     "data": {
      "text/plain": [
       "((5000, 28, 28), (10000, 28, 28))"
      ]
     },
     "execution_count": 4,
     "metadata": {},
     "output_type": "execute_result"
    }
   ],
   "source": [
    "X_valid, X_train = X_train_full[:5000] / 255., X_train_full[5000:] / 255.\n",
    "y_valid, y_train = y_train_full[:5000], y_train_full[5000:]\n",
    "X_test = X_test / 255.\n",
    "\n",
    "X_valid.shape, X_test.shape"
   ]
  },
  {
   "cell_type": "markdown",
   "metadata": {},
   "source": [
    "It is important to visualize our data before we start trainig."
   ]
  },
  {
   "cell_type": "code",
   "execution_count": 5,
   "metadata": {
    "ExecuteTime": {
     "end_time": "2020-05-11T09:24:13.043170Z",
     "start_time": "2020-05-11T09:24:12.172490Z"
    }
   },
   "outputs": [
    {
     "data": {
      "image/png": "[encoded data removed]",
      "text/plain": [
       "<Figure size 691.2x345.6 with 32 Axes>"
      ]
     },
     "metadata": {
      "needs_background": "light"
     },
     "output_type": "display_data"
    }
   ],
   "source": [
    "import matplotlib.pyplot as plt\n",
    "\n",
    "r, c = 4, 8\n",
    "plt.figure(figsize=(c*1.2, r*1.2))\n",
    "for row in range(r):\n",
    "    for col in range(c):\n",
    "        index = c*row + col\n",
    "        plt.subplot(r, c, index + 1)\n",
    "        plt.imshow(X_train[index], cmap=\"binary\", interpolation=\"nearest\")\n",
    "        plt.axis('off')\n",
    "        plt.title(y_train[index], fontsize=12)\n",
    "plt.subplots_adjust(wspace=0.2, hspace=0.5)\n",
    "plt.show()"
   ]
  },
  {
   "cell_type": "markdown",
   "metadata": {},
   "source": [
    "The simplest kind of Keras model is the [Sequential](https://www.tensorflow.org/api_docs/python/tf/keras/models) model, where we can stack [Layers](https://www.tensorflow.org/api_docs/python/tf/keras/layers)."
   ]
  },
  {
   "cell_type": "code",
   "execution_count": 6,
   "metadata": {
    "ExecuteTime": {
     "end_time": "2020-05-11T09:24:13.153835Z",
     "start_time": "2020-05-11T09:24:13.045171Z"
    }
   },
   "outputs": [],
   "source": [
    "model = keras.models.Sequential()\n",
    "model.add(keras.layers.Flatten(input_shape=[28, 28]))\n",
    "model.add(keras.layers.Dense(300, activation=\"relu\"))\n",
    "model.add(keras.layers.Dense(100, activation=\"relu\"))\n",
    "model.add(keras.layers.Dense(10, activation=\"softmax\"))"
   ]
  },
  {
   "cell_type": "markdown",
   "metadata": {},
   "source": [
    "alternatively,"
   ]
  },
  {
   "cell_type": "code",
   "execution_count": 7,
   "metadata": {
    "ExecuteTime": {
     "end_time": "2020-05-11T09:24:13.185841Z",
     "start_time": "2020-05-11T09:24:13.155834Z"
    }
   },
   "outputs": [],
   "source": [
    "model = keras.models.Sequential([\n",
    "    keras.layers.Flatten(input_shape=[28, 28]),\n",
    "    keras.layers.Dense(300, activation=\"relu\"),\n",
    "    keras.layers.Dense(100, activation=\"relu\"),\n",
    "    keras.layers.Dense(10, activation=\"softmax\")\n",
    "])"
   ]
  },
  {
   "cell_type": "code",
   "execution_count": 8,
   "metadata": {
    "ExecuteTime": {
     "end_time": "2020-05-11T09:24:13.201840Z",
     "start_time": "2020-05-11T09:24:13.186840Z"
    }
   },
   "outputs": [
    {
     "name": "stdout",
     "output_type": "stream",
     "text": [
      "Model: \"sequential_1\"\n",
      "_________________________________________________________________\n",
      "Layer (type)                 Output Shape              Param #   \n",
      "=================================================================\n",
      "flatten_1 (Flatten)          (None, 784)               0         \n",
      "_________________________________________________________________\n",
      "dense_3 (Dense)              (None, 300)               235500    \n",
      "_________________________________________________________________\n",
      "dense_4 (Dense)              (None, 100)               30100     \n",
      "_________________________________________________________________\n",
      "dense_5 (Dense)              (None, 10)                1010      \n",
      "=================================================================\n",
      "Total params: 266,610\n",
      "Trainable params: 266,610\n",
      "Non-trainable params: 0\n",
      "_________________________________________________________________\n"
     ]
    }
   ],
   "source": [
    "model.summary()"
   ]
  },
  {
   "cell_type": "code",
   "execution_count": 9,
   "metadata": {
    "ExecuteTime": {
     "end_time": "2020-05-11T09:24:13.340973Z",
     "start_time": "2020-05-11T09:24:13.202841Z"
    }
   },
   "outputs": [
    {
     "data": {
      "image/png": "[encoded data removed]",
      "text/plain": [
       "<IPython.core.display.Image object>"
      ]
     },
     "execution_count": 9,
     "metadata": {},
     "output_type": "execute_result"
    }
   ],
   "source": [
    "keras.utils.plot_model(model, \"my_mnist_model.png\", show_shapes=True)"
   ]
  },
  {
   "cell_type": "markdown",
   "metadata": {},
   "source": [
    "After the model is created you must call *compile* to specify the loss function and the optimizer to use. You can pass extra parameters for more functionality (metrics, callbacks)."
   ]
  },
  {
   "cell_type": "code",
   "execution_count": 10,
   "metadata": {
    "ExecuteTime": {
     "end_time": "2020-05-11T09:24:13.355840Z",
     "start_time": "2020-05-11T09:24:13.341841Z"
    }
   },
   "outputs": [],
   "source": [
    "model.compile(loss=\"sparse_categorical_crossentropy\",\n",
    "              optimizer=\"sgd\",\n",
    "              metrics=[\"accuracy\"])"
   ]
  },
  {
   "cell_type": "markdown",
   "metadata": {},
   "source": [
    "alternatively,"
   ]
  },
  {
   "cell_type": "code",
   "execution_count": 11,
   "metadata": {
    "ExecuteTime": {
     "end_time": "2020-05-11T09:24:13.370840Z",
     "start_time": "2020-05-11T09:24:13.356840Z"
    }
   },
   "outputs": [],
   "source": [
    "model.compile(loss=keras.losses.sparse_categorical_crossentropy,\n",
    "              optimizer=keras.optimizers.SGD(),\n",
    "              metrics=[keras.metrics.sparse_categorical_accuracy])"
   ]
  },
  {
   "cell_type": "markdown",
   "metadata": {},
   "source": [
    "Now the model is ready to be trained."
   ]
  },
  {
   "cell_type": "code",
   "execution_count": 12,
   "metadata": {
    "ExecuteTime": {
     "end_time": "2020-05-11T09:24:35.280688Z",
     "start_time": "2020-05-11T09:24:13.371840Z"
    }
   },
   "outputs": [
    {
     "name": "stdout",
     "output_type": "stream",
     "text": [
      "Epoch 1/10\n",
      "1719/1719 [==============================] - 2s 1ms/step - loss: 0.6181 - sparse_categorical_accuracy: 0.8349 - val_loss: 0.3092 - val_sparse_categorical_accuracy: 0.9166\n",
      "Epoch 2/10\n",
      "1719/1719 [==============================] - 2s 1ms/step - loss: 0.2888 - sparse_categorical_accuracy: 0.9172 - val_loss: 0.2442 - val_sparse_categorical_accuracy: 0.9338\n",
      "Epoch 3/10\n",
      "1719/1719 [==============================] - 2s 1ms/step - loss: 0.2375 - sparse_categorical_accuracy: 0.9314 - val_loss: 0.2065 - val_sparse_categorical_accuracy: 0.9410\n",
      "Epoch 4/10\n",
      "1719/1719 [==============================] - 2s 1ms/step - loss: 0.2041 - sparse_categorical_accuracy: 0.9412 - val_loss: 0.1837 - val_sparse_categorical_accuracy: 0.9480\n",
      "Epoch 5/10\n",
      "1719/1719 [==============================] - 2s 1ms/step - loss: 0.1792 - sparse_categorical_accuracy: 0.9477 - val_loss: 0.1646 - val_sparse_categorical_accuracy: 0.9548\n",
      "Epoch 6/10\n",
      "1719/1719 [==============================] - 2s 1ms/step - loss: 0.1594 - sparse_categorical_accuracy: 0.9537 - val_loss: 0.1462 - val_sparse_categorical_accuracy: 0.9596\n",
      "Epoch 7/10\n",
      "1719/1719 [==============================] - 2s 1ms/step - loss: 0.1432 - sparse_categorical_accuracy: 0.9590 - val_loss: 0.1371 - val_sparse_categorical_accuracy: 0.9626\n",
      "Epoch 8/10\n",
      "1719/1719 [==============================] - 2s 1ms/step - loss: 0.1300 - sparse_categorical_accuracy: 0.9627 - val_loss: 0.1263 - val_sparse_categorical_accuracy: 0.9674\n",
      "Epoch 9/10\n",
      "1719/1719 [==============================] - 2s 1ms/step - loss: 0.1187 - sparse_categorical_accuracy: 0.9662 - val_loss: 0.1223 - val_sparse_categorical_accuracy: 0.9670\n",
      "Epoch 10/10\n",
      "1719/1719 [==============================] - 2s 1ms/step - loss: 0.1090 - sparse_categorical_accuracy: 0.9688 - val_loss: 0.1154 - val_sparse_categorical_accuracy: 0.9684\n"
     ]
    }
   ],
   "source": [
    "history = model.fit(X_train, y_train, epochs=10, validation_data=(X_valid, y_valid))"
   ]
  },
  {
   "cell_type": "code",
   "execution_count": 13,
   "metadata": {
    "ExecuteTime": {
     "end_time": "2020-05-11T09:24:35.440684Z",
     "start_time": "2020-05-11T09:24:35.282682Z"
    }
   },
   "outputs": [
    {
     "data": {
      "image/png": "[encoded data removed]",
      "text/plain": [
       "<Figure size 576x360 with 1 Axes>"
      ]
     },
     "metadata": {
      "needs_background": "light"
     },
     "output_type": "display_data"
    }
   ],
   "source": [
    "import pandas as pd\n",
    "\n",
    "pd.DataFrame(history.history).plot(figsize=(8, 5))\n",
    "plt.grid(True)\n",
    "plt.gca().set_ylim(0, 1)\n",
    "plt.show()"
   ]
  },
  {
   "cell_type": "code",
   "execution_count": 14,
   "metadata": {
    "ExecuteTime": {
     "end_time": "2020-05-11T09:24:35.757726Z",
     "start_time": "2020-05-11T09:24:35.442691Z"
    }
   },
   "outputs": [
    {
     "name": "stdout",
     "output_type": "stream",
     "text": [
      "313/313 [==============================] - 0s 888us/step - loss: 0.1190 - sparse_categorical_accuracy: 0.9637\n"
     ]
    },
    {
     "data": {
      "text/plain": [
       "[0.1190260499715805, 0.963699996471405]"
      ]
     },
     "execution_count": 14,
     "metadata": {},
     "output_type": "execute_result"
    }
   ],
   "source": [
    "model.evaluate(X_test, y_test)"
   ]
  },
  {
   "cell_type": "markdown",
   "metadata": {},
   "source": [
    "Once the model is trained we can use it to make predictions."
   ]
  },
  {
   "cell_type": "code",
   "execution_count": 15,
   "metadata": {
    "ExecuteTime": {
     "end_time": "2020-05-11T09:24:35.868504Z",
     "start_time": "2020-05-11T09:24:35.758681Z"
    }
   },
   "outputs": [
    {
     "data": {
      "text/plain": [
       "array([[0.  , 0.  , 0.  , 0.  , 0.  , 0.  , 0.  , 1.  , 0.  , 0.  ],\n",
       "       [0.  , 0.  , 1.  , 0.  , 0.  , 0.  , 0.  , 0.  , 0.  , 0.  ],\n",
       "       [0.  , 0.99, 0.  , 0.  , 0.  , 0.  , 0.  , 0.  , 0.  , 0.  ],\n",
       "       [1.  , 0.  , 0.  , 0.  , 0.  , 0.  , 0.  , 0.  , 0.  , 0.  ],\n",
       "       [0.  , 0.  , 0.  , 0.  , 0.98, 0.  , 0.  , 0.  , 0.  , 0.02],\n",
       "       [0.  , 0.99, 0.  , 0.  , 0.  , 0.  , 0.  , 0.01, 0.  , 0.  ],\n",
       "       [0.  , 0.  , 0.  , 0.  , 0.99, 0.  , 0.  , 0.  , 0.01, 0.  ],\n",
       "       [0.  , 0.  , 0.  , 0.03, 0.01, 0.  , 0.  , 0.01, 0.01, 0.94],\n",
       "       [0.01, 0.  , 0.  , 0.  , 0.04, 0.09, 0.86, 0.  , 0.  , 0.  ],\n",
       "       [0.  , 0.  , 0.  , 0.  , 0.04, 0.  , 0.  , 0.04, 0.  , 0.92],\n",
       "       [1.  , 0.  , 0.  , 0.  , 0.  , 0.  , 0.  , 0.  , 0.  , 0.  ],\n",
       "       [0.  , 0.  , 0.  , 0.  , 0.  , 0.  , 0.98, 0.  , 0.01, 0.  ],\n",
       "       [0.  , 0.  , 0.  , 0.  , 0.01, 0.  , 0.  , 0.01, 0.  , 0.99],\n",
       "       [1.  , 0.  , 0.  , 0.  , 0.  , 0.  , 0.  , 0.  , 0.  , 0.  ],\n",
       "       [0.  , 1.  , 0.  , 0.  , 0.  , 0.  , 0.  , 0.  , 0.  , 0.  ],\n",
       "       [0.  , 0.  , 0.  , 0.02, 0.  , 0.97, 0.  , 0.  , 0.01, 0.  ],\n",
       "       [0.  , 0.  , 0.  , 0.  , 0.01, 0.  , 0.  , 0.  , 0.  , 0.99],\n",
       "       [0.  , 0.  , 0.  , 0.  , 0.  , 0.  , 0.  , 1.  , 0.  , 0.  ],\n",
       "       [0.  , 0.  , 0.  , 0.97, 0.  , 0.  , 0.  , 0.  , 0.03, 0.  ],\n",
       "       [0.  , 0.  , 0.  , 0.  , 1.  , 0.  , 0.  , 0.  , 0.  , 0.  ],\n",
       "       [0.  , 0.  , 0.  , 0.01, 0.  , 0.  , 0.  , 0.14, 0.  , 0.84],\n",
       "       [0.  , 0.  , 0.  , 0.  , 0.  , 0.  , 1.  , 0.  , 0.  , 0.  ],\n",
       "       [0.  , 0.  , 0.  , 0.  , 0.  , 0.  , 0.99, 0.  , 0.  , 0.  ],\n",
       "       [0.  , 0.  , 0.  , 0.  , 0.  , 1.  , 0.  , 0.  , 0.  , 0.  ],\n",
       "       [0.  , 0.  , 0.  , 0.  , 0.96, 0.  , 0.  , 0.02, 0.  , 0.01]],\n",
       "      dtype=float32)"
      ]
     },
     "execution_count": 15,
     "metadata": {},
     "output_type": "execute_result"
    }
   ],
   "source": [
    "X_new = X_test[:25]\n",
    "y_proba = model.predict(X_new)\n",
    "y_proba.round(2)"
   ]
  },
  {
   "cell_type": "code",
   "execution_count": 16,
   "metadata": {
    "ExecuteTime": {
     "end_time": "2020-05-11T09:24:36.421148Z",
     "start_time": "2020-05-11T09:24:35.869508Z"
    }
   },
   "outputs": [
    {
     "data": {
      "image/png": "[encoded data removed]",
      "text/plain": [
       "<Figure size 432x432 with 25 Axes>"
      ]
     },
     "metadata": {
      "needs_background": "light"
     },
     "output_type": "display_data"
    }
   ],
   "source": [
    "plt.figure(figsize=(6, 6))\n",
    "for index, image in enumerate(X_new):\n",
    "    plt.subplot(5, 5, index + 1)\n",
    "    plt.imshow(image, cmap=\"binary\", interpolation=\"nearest\")\n",
    "    plt.axis('off')\n",
    "    plt.title(y_test[index], fontsize=12)\n",
    "plt.subplots_adjust(wspace=0.2, hspace=0.5)\n",
    "plt.show()"
   ]
  },
  {
   "cell_type": "markdown",
   "metadata": {},
   "source": [
    "Let's see another example, now for a regression task"
   ]
  },
  {
   "cell_type": "code",
   "execution_count": 17,
   "metadata": {
    "ExecuteTime": {
     "end_time": "2020-05-11T09:24:42.520109Z",
     "start_time": "2020-05-11T09:24:36.422152Z"
    }
   },
   "outputs": [
    {
     "name": "stdout",
     "output_type": "stream",
     "text": [
      "Epoch 1/20\n",
      "363/363 [==============================] - 0s 860us/step - loss: 2.2705 - val_loss: 1.1587\n",
      "Epoch 2/20\n",
      "363/363 [==============================] - 0s 766us/step - loss: 0.8175 - val_loss: 0.7138\n",
      "Epoch 3/20\n",
      "363/363 [==============================] - 0s 762us/step - loss: 0.7155 - val_loss: 0.6652\n",
      "Epoch 4/20\n",
      "363/363 [==============================] - 0s 792us/step - loss: 0.6765 - val_loss: 0.6231\n",
      "Epoch 5/20\n",
      "363/363 [==============================] - 0s 760us/step - loss: 0.6471 - val_loss: 0.6636\n",
      "Epoch 6/20\n",
      "363/363 [==============================] - 0s 747us/step - loss: 0.6227 - val_loss: 0.5805\n",
      "Epoch 7/20\n",
      "363/363 [==============================] - 0s 755us/step - loss: 0.5997 - val_loss: 0.5588\n",
      "Epoch 8/20\n",
      "363/363 [==============================] - 0s 777us/step - loss: 0.5782 - val_loss: 0.5357\n",
      "Epoch 9/20\n",
      "363/363 [==============================] - 0s 770us/step - loss: 0.5585 - val_loss: 0.5224\n",
      "Epoch 10/20\n",
      "363/363 [==============================] - 0s 748us/step - loss: 0.5407 - val_loss: 0.4977\n",
      "Epoch 11/20\n",
      "363/363 [==============================] - 0s 760us/step - loss: 0.5235 - val_loss: 0.5059\n",
      "Epoch 12/20\n",
      "363/363 [==============================] - 0s 762us/step - loss: 0.5087 - val_loss: 0.4745\n",
      "Epoch 13/20\n",
      "363/363 [==============================] - 0s 738us/step - loss: 0.4948 - val_loss: 0.4854\n",
      "Epoch 14/20\n",
      "363/363 [==============================] - 0s 722us/step - loss: 0.4833 - val_loss: 0.4549\n",
      "Epoch 15/20\n",
      "363/363 [==============================] - 0s 727us/step - loss: 0.4725 - val_loss: 0.4604\n",
      "Epoch 16/20\n",
      "363/363 [==============================] - 0s 749us/step - loss: 0.4637 - val_loss: 0.4322\n",
      "Epoch 17/20\n",
      "363/363 [==============================] - 0s 742us/step - loss: 0.4555 - val_loss: 0.4217\n",
      "Epoch 18/20\n",
      "363/363 [==============================] - 0s 750us/step - loss: 0.4484 - val_loss: 0.4159\n",
      "Epoch 19/20\n",
      "363/363 [==============================] - 0s 766us/step - loss: 0.4427 - val_loss: 0.4107\n",
      "Epoch 20/20\n",
      "363/363 [==============================] - 0s 760us/step - loss: 0.4373 - val_loss: 0.4073\n"
     ]
    }
   ],
   "source": [
    "from sklearn.datasets import fetch_california_housing\n",
    "from sklearn.model_selection import train_test_split\n",
    "from sklearn.preprocessing import StandardScaler\n",
    "\n",
    "housing = fetch_california_housing()\n",
    "\n",
    "X_train_full, X_test, y_train_full, y_test = train_test_split(housing.data, housing.target, random_state=42)\n",
    "X_train, X_valid, y_train, y_valid = train_test_split(X_train_full, y_train_full, random_state=42)\n",
    "\n",
    "scaler = StandardScaler()\n",
    "X_train = scaler.fit_transform(X_train)\n",
    "X_valid = scaler.transform(X_valid)\n",
    "X_test = scaler.transform(X_test)\n",
    "\n",
    "model = keras.models.Sequential([\n",
    "    keras.layers.Dense(30, activation=\"relu\", input_shape=X_train.shape[1:]),\n",
    "    keras.layers.Dense(1)\n",
    "])\n",
    "\n",
    "model.compile(loss=\"mean_squared_error\", optimizer=keras.optimizers.SGD(lr=1e-3))\n",
    "history = model.fit(X_train, y_train, epochs=20, validation_data=(X_valid, y_valid))"
   ]
  },
  {
   "cell_type": "code",
   "execution_count": 18,
   "metadata": {
    "ExecuteTime": {
     "end_time": "2020-05-11T09:24:42.628934Z",
     "start_time": "2020-05-11T09:24:42.523116Z"
    }
   },
   "outputs": [
    {
     "name": "stdout",
     "output_type": "stream",
     "text": [
      "162/162 [==============================] - 0s 468us/step - loss: 0.4293\n"
     ]
    }
   ],
   "source": [
    "mse = model.evaluate(X_test, y_test)"
   ]
  },
  {
   "cell_type": "code",
   "execution_count": 19,
   "metadata": {
    "ExecuteTime": {
     "end_time": "2020-05-11T09:24:42.675937Z",
     "start_time": "2020-05-11T09:24:42.630936Z"
    }
   },
   "outputs": [
    {
     "data": {
      "text/plain": [
       "array([[0.5492861],\n",
       "       [1.5596366],\n",
       "       [3.2276473],\n",
       "       [2.5392234],\n",
       "       [2.6536322],\n",
       "       [2.0284574],\n",
       "       [2.5665789],\n",
       "       [1.8074352],\n",
       "       [2.8703787],\n",
       "       [4.169635 ]], dtype=float32)"
      ]
     },
     "execution_count": 19,
     "metadata": {},
     "output_type": "execute_result"
    }
   ],
   "source": [
    "X_new = X_test[:10]\n",
    "y_pred = model.predict(X_new)\n",
    "y_pred"
   ]
  },
  {
   "cell_type": "markdown",
   "metadata": {},
   "source": [
    "We can save and restore models like this"
   ]
  },
  {
   "cell_type": "code",
   "execution_count": 20,
   "metadata": {
    "ExecuteTime": {
     "end_time": "2020-05-11T09:24:42.691938Z",
     "start_time": "2020-05-11T09:24:42.676938Z"
    }
   },
   "outputs": [],
   "source": [
    "model.save(\"my_keras_model.h5\")"
   ]
  },
  {
   "cell_type": "code",
   "execution_count": 21,
   "metadata": {
    "ExecuteTime": {
     "end_time": "2020-05-11T09:24:42.755937Z",
     "start_time": "2020-05-11T09:24:42.692937Z"
    }
   },
   "outputs": [
    {
     "data": {
      "text/plain": [
       "array([[0.5492861],\n",
       "       [1.5596366],\n",
       "       [3.2276473],\n",
       "       [2.5392234],\n",
       "       [2.6536322],\n",
       "       [2.0284574],\n",
       "       [2.5665789],\n",
       "       [1.8074352],\n",
       "       [2.8703787],\n",
       "       [4.169635 ]], dtype=float32)"
      ]
     },
     "execution_count": 21,
     "metadata": {},
     "output_type": "execute_result"
    }
   ],
   "source": [
    "model = keras.models.load_model(\"my_keras_model.h5\")\n",
    "model.predict(X_new)"
   ]
  },
  {
   "cell_type": "markdown",
   "metadata": {},
   "source": [
    "We can modify the behavior of the training flow with [Callbacks](https://www.tensorflow.org/api_docs/python/tf/keras/callbacks)"
   ]
  },
  {
   "cell_type": "code",
   "execution_count": 22,
   "metadata": {
    "ExecuteTime": {
     "end_time": "2020-05-11T09:24:45.773214Z",
     "start_time": "2020-05-11T09:24:42.756937Z"
    }
   },
   "outputs": [
    {
     "name": "stdout",
     "output_type": "stream",
     "text": [
      "Epoch 1/10\n",
      "363/363 [==============================] - 0s 919us/step - loss: 0.4324 - val_loss: 0.4009\n",
      "Epoch 2/10\n",
      "363/363 [==============================] - 0s 787us/step - loss: 0.4277 - val_loss: 0.3972\n",
      "Epoch 3/10\n",
      "363/363 [==============================] - 0s 816us/step - loss: 0.4243 - val_loss: 0.3965\n",
      "Epoch 4/10\n",
      "363/363 [==============================] - 0s 789us/step - loss: 0.4209 - val_loss: 0.3940\n",
      "Epoch 5/10\n",
      "363/363 [==============================] - 0s 798us/step - loss: 0.4179 - val_loss: 0.3909\n",
      "Epoch 6/10\n",
      "363/363 [==============================] - 0s 738us/step - loss: 0.4157 - val_loss: 0.3909\n",
      "Epoch 7/10\n",
      "363/363 [==============================] - 0s 736us/step - loss: 0.4134 - val_loss: 0.3921\n",
      "Epoch 8/10\n",
      "363/363 [==============================] - 0s 774us/step - loss: 0.4114 - val_loss: 0.3899\n",
      "Epoch 9/10\n",
      "363/363 [==============================] - 0s 769us/step - loss: 0.4093 - val_loss: 0.3847\n",
      "Epoch 10/10\n",
      "363/363 [==============================] - 0s 755us/step - loss: 0.4077 - val_loss: 0.3805\n"
     ]
    }
   ],
   "source": [
    "# save best model during training\n",
    "checkpoint_cb = keras.callbacks.ModelCheckpoint(\"my_keras_model.h5\", save_best_only=True)\n",
    "\n",
    "history = model.fit(X_train, y_train, epochs=10,\n",
    "                    validation_data=(X_valid, y_valid),\n",
    "                    callbacks=[checkpoint_cb])\n",
    "\n",
    "model = keras.models.load_model(\"my_keras_model.h5\") # rollback to best model"
   ]
  },
  {
   "cell_type": "code",
   "execution_count": 23,
   "metadata": {
    "ExecuteTime": {
     "end_time": "2020-05-11T09:24:49.764734Z",
     "start_time": "2020-05-11T09:24:45.774214Z"
    }
   },
   "outputs": [
    {
     "name": "stdout",
     "output_type": "stream",
     "text": [
      "Epoch 1/10000\n",
      "363/363 [==============================] - 0s 862us/step - loss: 0.4056 - val_loss: 0.4030\n",
      "Epoch 2/10000\n",
      "363/363 [==============================] - 0s 752us/step - loss: 0.4042 - val_loss: 0.3779\n",
      "Epoch 3/10000\n",
      "363/363 [==============================] - 0s 737us/step - loss: 0.4027 - val_loss: 0.3951\n",
      "Epoch 4/10000\n",
      "363/363 [==============================] - 0s 763us/step - loss: 0.4014 - val_loss: 0.3752\n",
      "Epoch 5/10000\n",
      "363/363 [==============================] - 0s 736us/step - loss: 0.3996 - val_loss: 0.4047\n",
      "Epoch 6/10000\n",
      "363/363 [==============================] - 0s 769us/step - loss: 0.3987 - val_loss: 0.3737\n",
      "Epoch 7/10000\n",
      "363/363 [==============================] - 0s 766us/step - loss: 0.3971 - val_loss: 0.3813\n",
      "Epoch 8/10000\n",
      "363/363 [==============================] - 0s 738us/step - loss: 0.3959 - val_loss: 0.3763\n",
      "Epoch 9/10000\n",
      "363/363 [==============================] - 0s 785us/step - loss: 0.3948 - val_loss: 0.3708\n",
      "Epoch 10/10000\n",
      "363/363 [==============================] - 0s 736us/step - loss: 0.3934 - val_loss: 0.4049\n",
      "Epoch 11/10000\n",
      "363/363 [==============================] - 0s 763us/step - loss: 0.3926 - val_loss: 0.3681\n",
      "Epoch 12/10000\n",
      "363/363 [==============================] - 0s 741us/step - loss: 0.3912 - val_loss: 0.3731\n",
      "Epoch 13/10000\n",
      "363/363 [==============================] - 0s 730us/step - loss: 0.3902 - val_loss: 0.3867\n",
      "Epoch 14/10000\n",
      "363/363 [==============================] - 0s 736us/step - loss: 0.3894 - val_loss: 0.3847\n"
     ]
    }
   ],
   "source": [
    "# stop training if the validation loss does not improve in 3 epochs\n",
    "early_stopping_cb = keras.callbacks.EarlyStopping(patience=3, restore_best_weights=True)\n",
    "\n",
    "history = model.fit(X_train, y_train, epochs=10000,\n",
    "                    validation_data=(X_valid, y_valid),\n",
    "                    callbacks=[checkpoint_cb, early_stopping_cb])"
   ]
  },
  {
   "cell_type": "markdown",
   "metadata": {},
   "source": [
    "You can build your own callbacks"
   ]
  },
  {
   "cell_type": "code",
   "execution_count": 24,
   "metadata": {
    "ExecuteTime": {
     "end_time": "2020-05-11T09:24:49.780742Z",
     "start_time": "2020-05-11T09:24:49.765735Z"
    }
   },
   "outputs": [],
   "source": [
    "class PrintValTrainRatioCallback(keras.callbacks.Callback):\n",
    "    def on_epoch_end(self, epoch, logs):\n",
    "        print(\"\\nval/train: {:.2f}\".format(logs[\"val_loss\"] / logs[\"loss\"]))"
   ]
  },
  {
   "cell_type": "code",
   "execution_count": 25,
   "metadata": {
    "ExecuteTime": {
     "end_time": "2020-05-11T09:24:50.652787Z",
     "start_time": "2020-05-11T09:24:49.781744Z"
    }
   },
   "outputs": [
    {
     "name": "stdout",
     "output_type": "stream",
     "text": [
      "Epoch 1/3\n",
      "280/363 [======================>.......] - ETA: 0s - loss: 0.3830\n",
      "val/train: 0.94\n",
      "363/363 [==============================] - 0s 752us/step - loss: 0.3913 - val_loss: 0.3677\n",
      "Epoch 2/3\n",
      "356/363 [============================>.] - ETA: 0s - loss: 0.3927\n",
      "val/train: 0.94\n",
      "363/363 [==============================] - 0s 782us/step - loss: 0.3903 - val_loss: 0.3676\n",
      "Epoch 3/3\n",
      "274/363 [=====================>........] - ETA: 0s - loss: 0.3905\n",
      "val/train: 0.96\n",
      "363/363 [==============================] - 0s 749us/step - loss: 0.3890 - val_loss: 0.3744\n"
     ]
    }
   ],
   "source": [
    "val_train_ratio_cb = PrintValTrainRatioCallback()\n",
    "\n",
    "history = model.fit(X_train, y_train, epochs=3,\n",
    "                    validation_data=(X_valid, y_valid),\n",
    "                    callbacks=[val_train_ratio_cb])"
   ]
  },
  {
   "cell_type": "markdown",
   "metadata": {},
   "source": [
    "You can use [Keras Tuner](https://github.com/keras-team/keras-tuner) for hyperparameter tuning (in Colab you may need to install it with `pip install -U keras-tuner`)."
   ]
  },
  {
   "cell_type": "code",
   "execution_count": null,
   "metadata": {},
   "outputs": [],
   "source": [
    "#!pip install -U keras-tuner"
   ]
  },
  {
   "cell_type": "code",
   "execution_count": 26,
   "metadata": {
    "ExecuteTime": {
     "end_time": "2020-05-11T09:24:50.716750Z",
     "start_time": "2020-05-11T09:24:50.653742Z"
    }
   },
   "outputs": [],
   "source": [
    "from tensorflow import keras\n",
    "from tensorflow.keras import layers\n",
    "from kerastuner.tuners import RandomSearch\n",
    "\n",
    "def build_model(hp):\n",
    "    model = keras.Sequential()\n",
    "    model.add(keras.layers.InputLayer(input_shape=[8]))\n",
    "    model.add(layers.Dense(units=hp.Int('units',\n",
    "                                        min_value=10,\n",
    "                                        max_value=100,\n",
    "                                        step=10),\n",
    "                           activation='relu'))\n",
    "    model.add(layers.Dense(1))\n",
    "    model.compile(\n",
    "        optimizer=keras.optimizers.SGD(\n",
    "            hp.Choice('learning_rate',\n",
    "                      values=[1e-2, 1e-3, 1e-4])),\n",
    "        loss='mse',\n",
    "        metrics=['mean_squared_error'])\n",
    "    return model"
   ]
  },
  {
   "cell_type": "code",
   "execution_count": 27,
   "metadata": {
    "ExecuteTime": {
     "end_time": "2020-05-11T09:24:50.922752Z",
     "start_time": "2020-05-11T09:24:50.717750Z"
    }
   },
   "outputs": [
    {
     "name": "stdout",
     "output_type": "stream",
     "text": [
      "INFO:tensorflow:Reloading Oracle from existing project tuner\\housing\\oracle.json\n",
      "INFO:tensorflow:Reloading Tuner from tuner\\housing\\tuner0.json\n"
     ]
    }
   ],
   "source": [
    "tuner = RandomSearch(\n",
    "    build_model,\n",
    "    objective='val_mean_squared_error',\n",
    "    max_trials=5,\n",
    "    executions_per_trial=3,\n",
    "    directory='tuner',\n",
    "    project_name='housing')"
   ]
  },
  {
   "cell_type": "code",
   "execution_count": 28,
   "metadata": {
    "ExecuteTime": {
     "end_time": "2020-05-11T09:24:50.938766Z",
     "start_time": "2020-05-11T09:24:50.923753Z"
    }
   },
   "outputs": [
    {
     "data": {
      "text/html": [
       "<span style=\"color:#4527A0\"><h1 style=\"font-size:18px\">Search space summary</h1></span>"
      ],
      "text/plain": [
       "<IPython.core.display.HTML object>"
      ]
     },
     "metadata": {},
     "output_type": "display_data"
    },
    {
     "data": {
      "text/html": [
       "<span style=\"color:cyan\"> |-Default search space size: 2</span>"
      ],
      "text/plain": [
       "<IPython.core.display.HTML object>"
      ]
     },
     "metadata": {},
     "output_type": "display_data"
    },
    {
     "data": {
      "text/html": [
       "<span style=\"color:#7E57C2\"><h2 style=\"font-size:16px\">units (Int)</h2></span>"
      ],
      "text/plain": [
       "<IPython.core.display.HTML object>"
      ]
     },
     "metadata": {},
     "output_type": "display_data"
    },
    {
     "data": {
      "text/html": [
       "<span style=\"color:cyan\"> |-default: None</span>"
      ],
      "text/plain": [
       "<IPython.core.display.HTML object>"
      ]
     },
     "metadata": {},
     "output_type": "display_data"
    },
    {
     "data": {
      "text/html": [
       "<span style=\"color:blue\"> |-max_value: 100</span>"
      ],
      "text/plain": [
       "<IPython.core.display.HTML object>"
      ]
     },
     "metadata": {},
     "output_type": "display_data"
    },
    {
     "data": {
      "text/html": [
       "<span style=\"color:cyan\"> |-min_value: 10</span>"
      ],
      "text/plain": [
       "<IPython.core.display.HTML object>"
      ]
     },
     "metadata": {},
     "output_type": "display_data"
    },
    {
     "data": {
      "text/html": [
       "<span style=\"color:blue\"> |-sampling: None</span>"
      ],
      "text/plain": [
       "<IPython.core.display.HTML object>"
      ]
     },
     "metadata": {},
     "output_type": "display_data"
    },
    {
     "data": {
      "text/html": [
       "<span style=\"color:cyan\"> |-step: 10</span>"
      ],
      "text/plain": [
       "<IPython.core.display.HTML object>"
      ]
     },
     "metadata": {},
     "output_type": "display_data"
    },
    {
     "data": {
      "text/html": [
       "<span style=\"color:#7E57C2\"><h2 style=\"font-size:16px\">learning_rate (Choice)</h2></span>"
      ],
      "text/plain": [
       "<IPython.core.display.HTML object>"
      ]
     },
     "metadata": {},
     "output_type": "display_data"
    },
    {
     "data": {
      "text/html": [
       "<span style=\"color:cyan\"> |-default: 0.01</span>"
      ],
      "text/plain": [
       "<IPython.core.display.HTML object>"
      ]
     },
     "metadata": {},
     "output_type": "display_data"
    },
    {
     "data": {
      "text/html": [
       "<span style=\"color:blue\"> |-ordered: True</span>"
      ],
      "text/plain": [
       "<IPython.core.display.HTML object>"
      ]
     },
     "metadata": {},
     "output_type": "display_data"
    },
    {
     "data": {
      "text/html": [
       "<span style=\"color:cyan\"> |-values: [0.01, 0.001, 0.0001]</span>"
      ],
      "text/plain": [
       "<IPython.core.display.HTML object>"
      ]
     },
     "metadata": {},
     "output_type": "display_data"
    }
   ],
   "source": [
    "tuner.search_space_summary()"
   ]
  },
  {
   "cell_type": "code",
   "execution_count": 29,
   "metadata": {
    "ExecuteTime": {
     "end_time": "2020-05-11T09:24:50.954248Z",
     "start_time": "2020-05-11T09:24:50.939752Z"
    }
   },
   "outputs": [
    {
     "name": "stdout",
     "output_type": "stream",
     "text": [
      "INFO:tensorflow:Oracle triggered exit\n"
     ]
    }
   ],
   "source": [
    "tuner.search(X_train, y_train,\n",
    "             epochs=10,\n",
    "             validation_data=(X_valid, y_valid),\n",
    "             callbacks=[keras.callbacks.EarlyStopping(patience=3)])"
   ]
  },
  {
   "cell_type": "code",
   "execution_count": 30,
   "metadata": {
    "ExecuteTime": {
     "end_time": "2020-05-11T09:24:51.002256Z",
     "start_time": "2020-05-11T09:24:50.955261Z"
    }
   },
   "outputs": [
    {
     "data": {
      "text/html": [
       "<span style=\"color:#4527A0\"><h1 style=\"font-size:18px\">Results summary</h1></span>"
      ],
      "text/plain": [
       "<IPython.core.display.HTML object>"
      ]
     },
     "metadata": {},
     "output_type": "display_data"
    },
    {
     "data": {
      "text/html": [
       "<span style=\"color:cyan\"> |-Results in tuner\\housing</span>"
      ],
      "text/plain": [
       "<IPython.core.display.HTML object>"
      ]
     },
     "metadata": {},
     "output_type": "display_data"
    },
    {
     "data": {
      "text/html": [
       "<span style=\"color:cyan\"> |-Showing 10 best trials</span>"
      ],
      "text/plain": [
       "<IPython.core.display.HTML object>"
      ]
     },
     "metadata": {},
     "output_type": "display_data"
    },
    {
     "data": {
      "text/html": [
       "<span style=\"color:cyan\"> |-Objective(name='val_mean_squared_error', direction='min')</span>"
      ],
      "text/plain": [
       "<IPython.core.display.HTML object>"
      ]
     },
     "metadata": {},
     "output_type": "display_data"
    },
    {
     "data": {
      "text/html": [
       "<span style=\"color:#4527A0\"><h1 style=\"font-size:18px\">Trial summary</h1></span>"
      ],
      "text/plain": [
       "<IPython.core.display.HTML object>"
      ]
     },
     "metadata": {},
     "output_type": "display_data"
    },
    {
     "data": {
      "text/html": [
       "<span style=\"color:cyan\"> |-Trial ID: 08497cf11da3fd601e31bdaf68429314</span>"
      ],
      "text/plain": [
       "<IPython.core.display.HTML object>"
      ]
     },
     "metadata": {},
     "output_type": "display_data"
    },
    {
     "data": {
      "text/html": [
       "<span style=\"color:cyan\"> |-Score: 0.4497020145257314</span>"
      ],
      "text/plain": [
       "<IPython.core.display.HTML object>"
      ]
     },
     "metadata": {},
     "output_type": "display_data"
    },
    {
     "data": {
      "text/html": [
       "<span style=\"color:cyan\"> |-Best step: 0</span>"
      ],
      "text/plain": [
       "<IPython.core.display.HTML object>"
      ]
     },
     "metadata": {},
     "output_type": "display_data"
    },
    {
     "data": {
      "text/html": [
       "<span style=\"color:#7E57C2\"><h2 style=\"font-size:16px\">Hyperparameters:</h2></span>"
      ],
      "text/plain": [
       "<IPython.core.display.HTML object>"
      ]
     },
     "metadata": {},
     "output_type": "display_data"
    },
    {
     "data": {
      "text/html": [
       "<span style=\"color:cyan\"> |-learning_rate: 0.001</span>"
      ],
      "text/plain": [
       "<IPython.core.display.HTML object>"
      ]
     },
     "metadata": {},
     "output_type": "display_data"
    },
    {
     "data": {
      "text/html": [
       "<span style=\"color:blue\"> |-units: 80</span>"
      ],
      "text/plain": [
       "<IPython.core.display.HTML object>"
      ]
     },
     "metadata": {},
     "output_type": "display_data"
    },
    {
     "data": {
      "text/html": [
       "<span style=\"color:#4527A0\"><h1 style=\"font-size:18px\">Trial summary</h1></span>"
      ],
      "text/plain": [
       "<IPython.core.display.HTML object>"
      ]
     },
     "metadata": {},
     "output_type": "display_data"
    },
    {
     "data": {
      "text/html": [
       "<span style=\"color:cyan\"> |-Trial ID: b7d46904d495d864aeb3bf0bbcb30b37</span>"
      ],
      "text/plain": [
       "<IPython.core.display.HTML object>"
      ]
     },
     "metadata": {},
     "output_type": "display_data"
    },
    {
     "data": {
      "text/html": [
       "<span style=\"color:cyan\"> |-Score: 0.4683179159959157</span>"
      ],
      "text/plain": [
       "<IPython.core.display.HTML object>"
      ]
     },
     "metadata": {},
     "output_type": "display_data"
    },
    {
     "data": {
      "text/html": [
       "<span style=\"color:cyan\"> |-Best step: 0</span>"
      ],
      "text/plain": [
       "<IPython.core.display.HTML object>"
      ]
     },
     "metadata": {},
     "output_type": "display_data"
    },
    {
     "data": {
      "text/html": [
       "<span style=\"color:#7E57C2\"><h2 style=\"font-size:16px\">Hyperparameters:</h2></span>"
      ],
      "text/plain": [
       "<IPython.core.display.HTML object>"
      ]
     },
     "metadata": {},
     "output_type": "display_data"
    },
    {
     "data": {
      "text/html": [
       "<span style=\"color:cyan\"> |-learning_rate: 0.001</span>"
      ],
      "text/plain": [
       "<IPython.core.display.HTML object>"
      ]
     },
     "metadata": {},
     "output_type": "display_data"
    },
    {
     "data": {
      "text/html": [
       "<span style=\"color:blue\"> |-units: 30</span>"
      ],
      "text/plain": [
       "<IPython.core.display.HTML object>"
      ]
     },
     "metadata": {},
     "output_type": "display_data"
    },
    {
     "data": {
      "text/html": [
       "<span style=\"color:#4527A0\"><h1 style=\"font-size:18px\">Trial summary</h1></span>"
      ],
      "text/plain": [
       "<IPython.core.display.HTML object>"
      ]
     },
     "metadata": {},
     "output_type": "display_data"
    },
    {
     "data": {
      "text/html": [
       "<span style=\"color:cyan\"> |-Trial ID: d7c9f7c7446ebebce8e6758be51570bb</span>"
      ],
      "text/plain": [
       "<IPython.core.display.HTML object>"
      ]
     },
     "metadata": {},
     "output_type": "display_data"
    },
    {
     "data": {
      "text/html": [
       "<span style=\"color:cyan\"> |-Score: 0.8893993000189463</span>"
      ],
      "text/plain": [
       "<IPython.core.display.HTML object>"
      ]
     },
     "metadata": {},
     "output_type": "display_data"
    },
    {
     "data": {
      "text/html": [
       "<span style=\"color:cyan\"> |-Best step: 0</span>"
      ],
      "text/plain": [
       "<IPython.core.display.HTML object>"
      ]
     },
     "metadata": {},
     "output_type": "display_data"
    },
    {
     "data": {
      "text/html": [
       "<span style=\"color:#7E57C2\"><h2 style=\"font-size:16px\">Hyperparameters:</h2></span>"
      ],
      "text/plain": [
       "<IPython.core.display.HTML object>"
      ]
     },
     "metadata": {},
     "output_type": "display_data"
    },
    {
     "data": {
      "text/html": [
       "<span style=\"color:cyan\"> |-learning_rate: 0.01</span>"
      ],
      "text/plain": [
       "<IPython.core.display.HTML object>"
      ]
     },
     "metadata": {},
     "output_type": "display_data"
    },
    {
     "data": {
      "text/html": [
       "<span style=\"color:blue\"> |-units: 100</span>"
      ],
      "text/plain": [
       "<IPython.core.display.HTML object>"
      ]
     },
     "metadata": {},
     "output_type": "display_data"
    },
    {
     "data": {
      "text/html": [
       "<span style=\"color:#4527A0\"><h1 style=\"font-size:18px\">Trial summary</h1></span>"
      ],
      "text/plain": [
       "<IPython.core.display.HTML object>"
      ]
     },
     "metadata": {},
     "output_type": "display_data"
    },
    {
     "data": {
      "text/html": [
       "<span style=\"color:cyan\"> |-Trial ID: 7151cf7d32e04133d695ae3e4ef6a1a6</span>"
      ],
      "text/plain": [
       "<IPython.core.display.HTML object>"
      ]
     },
     "metadata": {},
     "output_type": "display_data"
    },
    {
     "data": {
      "text/html": [
       "<span style=\"color:cyan\"> |-Score: 1.2603374024232228</span>"
      ],
      "text/plain": [
       "<IPython.core.display.HTML object>"
      ]
     },
     "metadata": {},
     "output_type": "display_data"
    },
    {
     "data": {
      "text/html": [
       "<span style=\"color:cyan\"> |-Best step: 0</span>"
      ],
      "text/plain": [
       "<IPython.core.display.HTML object>"
      ]
     },
     "metadata": {},
     "output_type": "display_data"
    },
    {
     "data": {
      "text/html": [
       "<span style=\"color:#7E57C2\"><h2 style=\"font-size:16px\">Hyperparameters:</h2></span>"
      ],
      "text/plain": [
       "<IPython.core.display.HTML object>"
      ]
     },
     "metadata": {},
     "output_type": "display_data"
    },
    {
     "data": {
      "text/html": [
       "<span style=\"color:cyan\"> |-learning_rate: 0.01</span>"
      ],
      "text/plain": [
       "<IPython.core.display.HTML object>"
      ]
     },
     "metadata": {},
     "output_type": "display_data"
    },
    {
     "data": {
      "text/html": [
       "<span style=\"color:blue\"> |-units: 70</span>"
      ],
      "text/plain": [
       "<IPython.core.display.HTML object>"
      ]
     },
     "metadata": {},
     "output_type": "display_data"
    },
    {
     "data": {
      "text/html": [
       "<span style=\"color:#4527A0\"><h1 style=\"font-size:18px\">Trial summary</h1></span>"
      ],
      "text/plain": [
       "<IPython.core.display.HTML object>"
      ]
     },
     "metadata": {},
     "output_type": "display_data"
    },
    {
     "data": {
      "text/html": [
       "<span style=\"color:cyan\"> |-Trial ID: 464f619138ce9d51564b3d6b39b45b43</span>"
      ],
      "text/plain": [
       "<IPython.core.display.HTML object>"
      ]
     },
     "metadata": {},
     "output_type": "display_data"
    },
    {
     "data": {
      "text/html": [
       "<span style=\"color:cyan\"> |-Score: 2.216097245613734</span>"
      ],
      "text/plain": [
       "<IPython.core.display.HTML object>"
      ]
     },
     "metadata": {},
     "output_type": "display_data"
    },
    {
     "data": {
      "text/html": [
       "<span style=\"color:cyan\"> |-Best step: 0</span>"
      ],
      "text/plain": [
       "<IPython.core.display.HTML object>"
      ]
     },
     "metadata": {},
     "output_type": "display_data"
    },
    {
     "data": {
      "text/html": [
       "<span style=\"color:#7E57C2\"><h2 style=\"font-size:16px\">Hyperparameters:</h2></span>"
      ],
      "text/plain": [
       "<IPython.core.display.HTML object>"
      ]
     },
     "metadata": {},
     "output_type": "display_data"
    },
    {
     "data": {
      "text/html": [
       "<span style=\"color:cyan\"> |-learning_rate: 0.01</span>"
      ],
      "text/plain": [
       "<IPython.core.display.HTML object>"
      ]
     },
     "metadata": {},
     "output_type": "display_data"
    },
    {
     "data": {
      "text/html": [
       "<span style=\"color:blue\"> |-units: 50</span>"
      ],
      "text/plain": [
       "<IPython.core.display.HTML object>"
      ]
     },
     "metadata": {},
     "output_type": "display_data"
    }
   ],
   "source": [
    "tuner.results_summary()"
   ]
  },
  {
   "cell_type": "code",
   "execution_count": 31,
   "metadata": {
    "ExecuteTime": {
     "end_time": "2020-05-11T09:24:51.209262Z",
     "start_time": "2020-05-11T09:24:51.003256Z"
    }
   },
   "outputs": [],
   "source": [
    "models = tuner.get_best_models(num_models=2)"
   ]
  },
  {
   "cell_type": "code",
   "execution_count": 32,
   "metadata": {
    "ExecuteTime": {
     "end_time": "2020-05-11T09:24:51.401256Z",
     "start_time": "2020-05-11T09:24:51.210259Z"
    }
   },
   "outputs": [
    {
     "name": "stdout",
     "output_type": "stream",
     "text": [
      "162/162 [==============================] - ETA: 0s - loss: 0.4830 - mean_squared_error: 0.48 - ETA: 0s - loss: 0.4590 - mean_squared_error: 0.45 - 0s 580us/step - loss: 0.4509 - mean_squared_error: 0.4509\n"
     ]
    },
    {
     "data": {
      "text/plain": [
       "[0.4509289264678955, 0.4509289264678955]"
      ]
     },
     "execution_count": 32,
     "metadata": {},
     "output_type": "execute_result"
    }
   ],
   "source": [
    "models[0].evaluate(X_test, y_test)"
   ]
  },
  {
   "cell_type": "markdown",
   "metadata": {},
   "source": [
    "You can do a lot more things with Keras. To learn more, go to [keras.io](https://keras.io/). It is a well designed high-level API that can be very useful for fast prototyping using common techniques. However, when we need to solve problems that cannot be solved in an \"easy standard\" way, we need more flexibility. For that, we can use Tensorflow."
   ]
  },
  {
   "cell_type": "code",
   "execution_count": 33,
   "metadata": {
    "ExecuteTime": {
     "end_time": "2020-05-11T09:24:51.417256Z",
     "start_time": "2020-05-11T09:24:51.402256Z"
    }
   },
   "outputs": [],
   "source": [
    "from tensorflow.keras.layers import Dense, Flatten, Conv2D\n",
    "from tensorflow.keras import Model"
   ]
  },
  {
   "cell_type": "code",
   "execution_count": 34,
   "metadata": {
    "ExecuteTime": {
     "end_time": "2020-05-11T09:24:51.751984Z",
     "start_time": "2020-05-11T09:24:51.418257Z"
    }
   },
   "outputs": [],
   "source": [
    "mnist = tf.keras.datasets.mnist\n",
    "\n",
    "(x_train, y_train), (x_test, y_test) = mnist.load_data()\n",
    "x_train, x_test = x_train / 255.0, x_test / 255.0\n",
    "\n",
    "x_train = x_train[..., tf.newaxis]\n",
    "x_test = x_test[..., tf.newaxis]"
   ]
  },
  {
   "cell_type": "markdown",
   "metadata": {},
   "source": [
    "We use [`tf.data`](https://www.tensorflow.org/api_docs/python/tf/data) to build our dataset."
   ]
  },
  {
   "cell_type": "code",
   "execution_count": 35,
   "metadata": {
    "ExecuteTime": {
     "end_time": "2020-05-11T09:24:51.767944Z",
     "start_time": "2020-05-11T09:24:51.752925Z"
    }
   },
   "outputs": [],
   "source": [
    "train_ds = tf.data.Dataset.from_tensor_slices(\n",
    "    (x_train, y_train)).shuffle(10000).batch(32)\n",
    "\n",
    "test_ds = tf.data.Dataset.from_tensor_slices((x_test, y_test)).batch(32)"
   ]
  },
  {
   "cell_type": "markdown",
   "metadata": {},
   "source": [
    "We can build our network in a more flexible way like this"
   ]
  },
  {
   "cell_type": "code",
   "execution_count": 36,
   "metadata": {
    "ExecuteTime": {
     "end_time": "2020-05-11T09:24:51.782944Z",
     "start_time": "2020-05-11T09:24:51.768947Z"
    }
   },
   "outputs": [],
   "source": [
    "class MyModel(Model):\n",
    "  def __init__(self):\n",
    "    super(MyModel, self).__init__()\n",
    "    self.conv1 = Conv2D(32, 3, activation='relu')\n",
    "    self.flatten = Flatten()\n",
    "    self.d1 = Dense(128, activation='relu')\n",
    "    self.d2 = Dense(10, activation='softmax')\n",
    "\n",
    "  def call(self, x):\n",
    "    x = self.conv1(x)\n",
    "    x = self.flatten(x)\n",
    "    x = self.d1(x)\n",
    "    return self.d2(x)\n",
    "\n",
    "model = MyModel()"
   ]
  },
  {
   "cell_type": "markdown",
   "metadata": {},
   "source": [
    "Then we choose our optimizer, loss function and metrics."
   ]
  },
  {
   "cell_type": "code",
   "execution_count": 37,
   "metadata": {
    "ExecuteTime": {
     "end_time": "2020-05-11T09:24:51.814943Z",
     "start_time": "2020-05-11T09:24:51.783950Z"
    }
   },
   "outputs": [],
   "source": [
    "loss_object = tf.keras.losses.SparseCategoricalCrossentropy()\n",
    "optimizer = tf.keras.optimizers.Adam()\n",
    "train_loss = tf.keras.metrics.Mean(name='train_loss')\n",
    "\n",
    "train_accuracy = tf.keras.metrics.SparseCategoricalAccuracy(name='train_accuracy')\n",
    "\n",
    "test_loss = tf.keras.metrics.Mean(name='test_loss')\n",
    "test_accuracy = tf.keras.metrics.SparseCategoricalAccuracy(name='test_accuracy')"
   ]
  },
  {
   "cell_type": "markdown",
   "metadata": {},
   "source": [
    "We build our own training loop with [`tf.GradientTape`](https://www.tensorflow.org/api_docs/python/tf/GradientTape)"
   ]
  },
  {
   "cell_type": "code",
   "execution_count": 38,
   "metadata": {
    "ExecuteTime": {
     "end_time": "2020-05-11T09:24:51.830943Z",
     "start_time": "2020-05-11T09:24:51.815949Z"
    }
   },
   "outputs": [],
   "source": [
    "@tf.function\n",
    "def train_step(images, labels):\n",
    "  with tf.GradientTape() as tape:\n",
    "    predictions = model(images)\n",
    "    loss = loss_object(labels, predictions)\n",
    "  gradients = tape.gradient(loss, model.trainable_variables)\n",
    "  optimizer.apply_gradients(zip(gradients, model.trainable_variables))\n",
    "\n",
    "  train_loss(loss)\n",
    "  train_accuracy(labels, predictions)\n",
    "    \n",
    "@tf.function\n",
    "def test_step(images, labels):\n",
    "  predictions = model(images)\n",
    "  t_loss = loss_object(labels, predictions)\n",
    "\n",
    "  test_loss(t_loss)\n",
    "  test_accuracy(labels, predictions)"
   ]
  },
  {
   "cell_type": "code",
   "execution_count": 39,
   "metadata": {
    "ExecuteTime": {
     "end_time": "2020-05-11T09:27:08.203507Z",
     "start_time": "2020-05-11T09:24:51.831950Z"
    }
   },
   "outputs": [
    {
     "name": "stdout",
     "output_type": "stream",
     "text": [
      "WARNING:tensorflow:Layer my_model is casting an input tensor from dtype float64 to the layer's dtype of float32, which is new behavior in TensorFlow 2.  The layer has dtype float32 because it's dtype defaults to floatx.\n",
      "\n",
      "If you intended to run this layer in float32, you can safely ignore this warning. If in doubt, this warning is likely only an issue if you are porting a TensorFlow 1.X model to TensorFlow 2.\n",
      "\n",
      "To change all layers to have dtype float64 by default, call `tf.keras.backend.set_floatx('float64')`. To change just this layer, pass dtype='float64' to the layer constructor. If you are the author of this layer, you can disable autocasting by passing autocast=False to the base Layer constructor.\n",
      "\n",
      "Epoch 1, loss: 0.136541947722435, acc: 95.94332885742188, test_loss: 0.06475866585969925, test_acc: 98.05999755859375\n",
      "Epoch 2, loss: 0.043549396097660065, acc: 98.62999725341797, test_loss: 0.05125649645924568, test_acc: 98.23999786376953\n",
      "Epoch 3, loss: 0.02455231547355652, acc: 99.17832946777344, test_loss: 0.053913664072752, test_acc: 98.23999786376953\n",
      "Epoch 4, loss: 0.013990413397550583, acc: 99.52999877929688, test_loss: 0.05622803419828415, test_acc: 98.3699951171875\n",
      "Epoch 5, loss: 0.009180116467177868, acc: 99.68499755859375, test_loss: 0.06756550818681717, test_acc: 98.29000091552734\n"
     ]
    }
   ],
   "source": [
    "EPOCHS = 5\n",
    "\n",
    "for epoch in range(EPOCHS):\n",
    "  for images, labels in train_ds:\n",
    "    train_step(images, labels)\n",
    "\n",
    "  for test_images, test_labels in test_ds:\n",
    "    test_step(test_images, test_labels)\n",
    "\n",
    "  template = 'Epoch {}, loss: {}, acc: {}, test_loss: {}, test_acc: {}'\n",
    "  print(template.format(epoch+1,\n",
    "                        train_loss.result(),\n",
    "                        train_accuracy.result()*100,\n",
    "                        test_loss.result(),\n",
    "                        test_accuracy.result()*100))\n",
    "\n",
    "  # reset metrics for next epoch.\n",
    "  train_loss.reset_states()\n",
    "  train_accuracy.reset_states()\n",
    "  test_loss.reset_states()\n",
    "  test_accuracy.reset_states()"
   ]
  },
  {
   "cell_type": "markdown",
   "metadata": {},
   "source": [
    "Tensorflow gives us a high level API (Keras) that can be really useful in most cases (simple cases) and also a low level API with great flexibility to solve more out-of-the-box problems.\n",
    "\n",
    "Tensorflow also has great support for deployment on diferent languages and environments. You can learn more at [tensorflow.org](https://www.tensorflow.org/learn).\n",
    "\n",
    "However..."
   ]
  },
  {
   "cell_type": "markdown",
   "metadata": {
    "ExecuteTime": {
     "end_time": "2020-05-11T08:55:28.841414Z",
     "start_time": "2020-05-11T08:55:28.795379Z"
    }
   },
   "source": [
    "![](https://mymlpics.s3.eu-de.cloud-object-storage.appdomain.cloud/meme.jpg)"
   ]
  },
  {
   "cell_type": "markdown",
   "metadata": {},
   "source": [
    "# Pytorch\n",
    "\n",
    "Pytorch is a low level DL framework (like Tensorflow) with no official high level API (lilke Keras). It offeres great flexibility and simplify a lot of concepts that can be cumbersome when working with Tensorflow. [Fast.ai](https://www.fast.ai/) is a third party high level API built on top of Pytorch used by many DL practicioners looking for a Keras alternative (plus, they have GREAT educational content).\n",
    "\n",
    "Let's see how to train an MLP for image classification on MNIST with Pytorch."
   ]
  },
  {
   "cell_type": "code",
   "execution_count": 40,
   "metadata": {
    "ExecuteTime": {
     "end_time": "2020-05-11T09:27:08.774684Z",
     "start_time": "2020-05-11T09:27:08.204508Z"
    }
   },
   "outputs": [
    {
     "data": {
      "text/plain": [
       "'1.5.0'"
      ]
     },
     "execution_count": 40,
     "metadata": {},
     "output_type": "execute_result"
    }
   ],
   "source": [
    "import torch\n",
    "import torchvision\n",
    "torch.__version__"
   ]
  },
  {
   "cell_type": "markdown",
   "metadata": {},
   "source": [
    "We use [`torchvision`](https://pytorch.org/docs/stable/torchvision/index.html) to load pre-trained models and datasets for computer vision applications."
   ]
  },
  {
   "cell_type": "code",
   "execution_count": 41,
   "metadata": {
    "ExecuteTime": {
     "end_time": "2020-05-11T09:27:08.806687Z",
     "start_time": "2020-05-11T09:27:08.775683Z"
    }
   },
   "outputs": [],
   "source": [
    "import torchvision.transforms as transforms\n",
    "\n",
    "train_dataset = torchvision.datasets.MNIST('./data', train=True, download=True, \n",
    "                   transform=transforms.Compose([\n",
    "                           transforms.ToTensor(),\n",
    "                           transforms.Normalize((0.1307,), (0.3081,))\n",
    "                       ]))\n",
    "\n",
    "test_dataset = torchvision.datasets.MNIST('./data', train=False, \n",
    "                   transform=transforms.Compose([\n",
    "                        transforms.ToTensor(),\n",
    "                        transforms.Normalize((0.1307,), (0.3081,))\n",
    "                    ]))"
   ]
  },
  {
   "cell_type": "code",
   "execution_count": 42,
   "metadata": {
    "ExecuteTime": {
     "end_time": "2020-05-11T09:27:09.444767Z",
     "start_time": "2020-05-11T09:27:08.807688Z"
    }
   },
   "outputs": [
    {
     "data": {
      "image/png": "[encoded data removed]",
      "text/plain": [
       "<Figure size 604.8x345.6 with 28 Axes>"
      ]
     },
     "metadata": {
      "needs_background": "light"
     },
     "output_type": "display_data"
    }
   ],
   "source": [
    "import random \n",
    "import matplotlib.pyplot as plt\n",
    "\n",
    "r, c = 4, 7\n",
    "fig = plt.subplots(figsize=(c*1.2,r*1.2))\n",
    "for row in range(r):\n",
    "  for col in range(c):\n",
    "    plt.subplot(r, c, c*row+col+1)\n",
    "    ix = random.randint(0, len(train_dataset)-1)\n",
    "    img, label = train_dataset[ix]\n",
    "    plt.imshow(img[0], cmap=\"binary\")\n",
    "    plt.axis('off')\n",
    "    plt.title(label)\n",
    "plt.tight_layout()\n",
    "plt.show()"
   ]
  },
  {
   "cell_type": "markdown",
   "metadata": {},
   "source": [
    "Just like Keras, Pytorch has a Sequential API to define sequences of layers to be executed one after another."
   ]
  },
  {
   "cell_type": "code",
   "execution_count": 43,
   "metadata": {
    "ExecuteTime": {
     "end_time": "2020-05-11T09:27:09.459801Z",
     "start_time": "2020-05-11T09:27:09.446771Z"
    }
   },
   "outputs": [],
   "source": [
    "model = torch.nn.Sequential(\n",
    "  torch.nn.Linear(28*28, 100),\n",
    "  torch.nn.ReLU(),\n",
    "  torch.nn.Linear(100, 10)    \n",
    ")"
   ]
  },
  {
   "cell_type": "markdown",
   "metadata": {},
   "source": [
    "We have also to define an optimizer and a loss function."
   ]
  },
  {
   "cell_type": "code",
   "execution_count": 44,
   "metadata": {
    "ExecuteTime": {
     "end_time": "2020-05-11T09:27:09.475800Z",
     "start_time": "2020-05-11T09:27:09.460800Z"
    }
   },
   "outputs": [],
   "source": [
    "optimizer = torch.optim.SGD(model.parameters(), lr=0.1)\n",
    "loss = torch.nn.CrossEntropyLoss()"
   ]
  },
  {
   "cell_type": "markdown",
   "metadata": {},
   "source": [
    "In order to feed images in batches, we have to create a `Dataloader`."
   ]
  },
  {
   "cell_type": "code",
   "execution_count": 45,
   "metadata": {
    "ExecuteTime": {
     "end_time": "2020-05-11T09:27:09.491585Z",
     "start_time": "2020-05-11T09:27:09.476801Z"
    }
   },
   "outputs": [],
   "source": [
    "train_loader = torch.utils.data.DataLoader(train_dataset, batch_size=32, shuffle=True)\n",
    "test_loader = torch.utils.data.DataLoader(test_dataset, batch_size=10000, shuffle=False)"
   ]
  },
  {
   "cell_type": "markdown",
   "metadata": {},
   "source": [
    "We don't have a `fit` method in Pytorch models for training, so you have to code your own training loop (like in Tensorflow)."
   ]
  },
  {
   "cell_type": "code",
   "execution_count": 46,
   "metadata": {
    "ExecuteTime": {
     "end_time": "2020-05-11T09:27:09.507582Z",
     "start_time": "2020-05-11T09:27:09.493583Z"
    }
   },
   "outputs": [],
   "source": [
    "from tqdm import tqdm\n",
    "import numpy as np\n",
    "\n",
    "def fit(model, train_loader, test_loader, optimizer, loss, epochs = 5):\n",
    "  for epoch in range(1, epochs+1):\n",
    "    # train\n",
    "    model.train() # VERY IMPORTANT !\n",
    "    train_loss, train_acc = [], 0\n",
    "    for imgs, labels in tqdm(train_loader):\n",
    "      optimizer.zero_grad() # VERY IMPORTANT !\n",
    "      output = model(imgs.reshape(imgs.shape[0],28*28))\n",
    "      l = loss(output, labels)\n",
    "      l.backward()\n",
    "      optimizer.step()\n",
    "      train_acc += (torch.argmax(output, axis=1) == labels).sum()\n",
    "      train_loss.append(l.item())\n",
    "    # eval\n",
    "    model.eval() # VERY IMPORTANT !\n",
    "    test_loss, test_acc = [], 0\n",
    "    with torch.no_grad():\n",
    "      for imgs, labels in tqdm(test_loader):\n",
    "        output = model(imgs.reshape(imgs.shape[0],28*28))\n",
    "        l = loss(output, labels)\n",
    "        test_acc += (torch.argmax(output, axis=1) == labels).sum()\n",
    "        test_loss.append(l.item())\n",
    "    print(f'Epoch: {epoch}/{epochs}\\n Train loss: {np.mean(train_loss):.4f} Test loss: {np.mean(test_loss):.4f} Train Acc: {train_acc}/{len(train_dataset)} ({100*train_acc/len(train_dataset)} %) Test Acc: {test_acc}/{len(test_dataset)} ({100*test_acc/len(test_dataset)} %)')"
   ]
  },
  {
   "cell_type": "code",
   "execution_count": 47,
   "metadata": {
    "ExecuteTime": {
     "end_time": "2020-05-11T09:28:31.597761Z",
     "start_time": "2020-05-11T09:27:09.508582Z"
    }
   },
   "outputs": [
    {
     "name": "stderr",
     "output_type": "stream",
     "text": [
      "100%|█████████████████████████████| 1875/1875 [00:14<00:00, 126.80it/s]\n",
      "100%|████████████████████████████████████| 1/1 [00:01<00:00,  1.09s/it]\n",
      "..\\aten\\src\\ATen\\native\\BinaryOps.cpp:81: UserWarning: Integer division of tensors using div or / is deprecated, and in a future release div will perform true division as in Python 3. Use true_divide or floor_divide (// in Python) instead.\n"
     ]
    },
    {
     "name": "stdout",
     "output_type": "stream",
     "text": [
      "Epoch: 1/5\n",
      " Train loss: 0.2187 Test loss: 0.1139 Train Acc: 56039/60000 (93 %) Test Acc: 9647/10000 (96 %)\n"
     ]
    },
    {
     "name": "stderr",
     "output_type": "stream",
     "text": [
      "100%|█████████████████████████████| 1875/1875 [00:15<00:00, 121.51it/s]\n",
      "100%|████████████████████████████████████| 1/1 [00:01<00:00,  1.08s/it]\n"
     ]
    },
    {
     "name": "stdout",
     "output_type": "stream",
     "text": [
      "Epoch: 2/5\n",
      " Train loss: 0.0981 Test loss: 0.1066 Train Acc: 58201/60000 (97 %) Test Acc: 9665/10000 (96 %)\n"
     ]
    },
    {
     "name": "stderr",
     "output_type": "stream",
     "text": [
      "100%|█████████████████████████████| 1875/1875 [00:15<00:00, 121.95it/s]\n",
      "100%|████████████████████████████████████| 1/1 [00:01<00:00,  1.19s/it]\n"
     ]
    },
    {
     "name": "stdout",
     "output_type": "stream",
     "text": [
      "Epoch: 3/5\n",
      " Train loss: 0.0692 Test loss: 0.0862 Train Acc: 58713/60000 (97 %) Test Acc: 9724/10000 (97 %)\n"
     ]
    },
    {
     "name": "stderr",
     "output_type": "stream",
     "text": [
      "100%|█████████████████████████████| 1875/1875 [00:15<00:00, 120.24it/s]\n",
      "100%|████████████████████████████████████| 1/1 [00:01<00:00,  1.09s/it]\n"
     ]
    },
    {
     "name": "stdout",
     "output_type": "stream",
     "text": [
      "Epoch: 4/5\n",
      " Train loss: 0.0523 Test loss: 0.0893 Train Acc: 59007/60000 (98 %) Test Acc: 9728/10000 (97 %)\n"
     ]
    },
    {
     "name": "stderr",
     "output_type": "stream",
     "text": [
      "100%|█████████████████████████████| 1875/1875 [00:15<00:00, 122.51it/s]\n",
      "100%|████████████████████████████████████| 1/1 [00:01<00:00,  1.08s/it]\n"
     ]
    },
    {
     "name": "stdout",
     "output_type": "stream",
     "text": [
      "Epoch: 5/5\n",
      " Train loss: 0.0403 Test loss: 0.0776 Train Acc: 59209/60000 (98 %) Test Acc: 9765/10000 (97 %)\n"
     ]
    }
   ],
   "source": [
    "fit(model, train_loader, test_loader, optimizer, loss)"
   ]
  },
  {
   "cell_type": "markdown",
   "metadata": {},
   "source": [
    "You can easily create you own `Datasets`."
   ]
  },
  {
   "cell_type": "code",
   "execution_count": 48,
   "metadata": {
    "ExecuteTime": {
     "end_time": "2020-05-11T09:28:51.523945Z",
     "start_time": "2020-05-11T09:28:31.599702Z"
    }
   },
   "outputs": [
    {
     "data": {
      "text/plain": [
       "(56000, 784)"
      ]
     },
     "execution_count": 48,
     "metadata": {},
     "output_type": "execute_result"
    }
   ],
   "source": [
    "from sklearn.datasets import fetch_openml\n",
    "\n",
    "X, y = fetch_openml('mnist_784', version=1, return_X_y=True)\n",
    "\n",
    "X_train, X_test, y_train, y_test = train_test_split(X, y.astype(np.int), test_size=0.2)\n",
    "\n",
    "X_train.shape"
   ]
  },
  {
   "cell_type": "code",
   "execution_count": 49,
   "metadata": {
    "ExecuteTime": {
     "end_time": "2020-05-11T09:28:51.533947Z",
     "start_time": "2020-05-11T09:28:51.525947Z"
    }
   },
   "outputs": [],
   "source": [
    "from torch.utils.data import Dataset\n",
    "\n",
    "class MNISTDataset(Dataset):\n",
    "  def __init__(self, images, labels):\n",
    "    self.images = images\n",
    "    self.labels = labels\n",
    "\n",
    "  def __len__(self):\n",
    "    return len(self.labels)\n",
    "\n",
    "  def __getitem__(self, ix):\n",
    "    img = torch.from_numpy(self.images[ix] / 255).float()\n",
    "    return img, torch.tensor(self.labels[ix]).long()"
   ]
  },
  {
   "cell_type": "code",
   "execution_count": 50,
   "metadata": {
    "ExecuteTime": {
     "end_time": "2020-05-11T09:28:51.551946Z",
     "start_time": "2020-05-11T09:28:51.535947Z"
    }
   },
   "outputs": [
    {
     "data": {
      "text/plain": [
       "(torch.Size([784]), torch.float32, tensor(1.), tensor(0.))"
      ]
     },
     "execution_count": 50,
     "metadata": {},
     "output_type": "execute_result"
    }
   ],
   "source": [
    "train_dataset = MNISTDataset(X_train, y_train)\n",
    "test_dataset = MNISTDataset(X_test, y_test)\n",
    "\n",
    "img, label = train_dataset[0]\n",
    "img.shape, img.dtype, img.max(), img.min()"
   ]
  },
  {
   "cell_type": "code",
   "execution_count": 51,
   "metadata": {
    "ExecuteTime": {
     "end_time": "2020-05-11T09:28:52.197968Z",
     "start_time": "2020-05-11T09:28:51.552946Z"
    }
   },
   "outputs": [
    {
     "data": {
      "image/png": "[encoded data removed]",
      "text/plain": [
       "<Figure size 604.8x345.6 with 28 Axes>"
      ]
     },
     "metadata": {
      "needs_background": "light"
     },
     "output_type": "display_data"
    }
   ],
   "source": [
    "r, c = 4, 7\n",
    "fig = plt.subplots(figsize=(c*1.2,r*1.2))\n",
    "for row in range(r):\n",
    "  for col in range(c):\n",
    "    plt.subplot(r, c, c*row+col+1)\n",
    "    ix = random.randint(0, len(train_dataset)-1)\n",
    "    img, label = train_dataset[ix]\n",
    "    plt.imshow(img.reshape(28,28), cmap=\"binary\")\n",
    "    plt.axis('off')\n",
    "    plt.title(label.item())\n",
    "plt.tight_layout()\n",
    "plt.show()"
   ]
  },
  {
   "cell_type": "markdown",
   "metadata": {},
   "source": [
    "To feed the network in batches, we need to create a `Dataloader`."
   ]
  },
  {
   "cell_type": "code",
   "execution_count": 52,
   "metadata": {
    "ExecuteTime": {
     "end_time": "2020-05-11T09:28:52.217999Z",
     "start_time": "2020-05-11T09:28:52.198969Z"
    }
   },
   "outputs": [
    {
     "data": {
      "text/plain": [
       "(torch.Size([64, 784]), torch.float32, tensor(1.), tensor(0.))"
      ]
     },
     "execution_count": 52,
     "metadata": {},
     "output_type": "execute_result"
    }
   ],
   "source": [
    "from torch.utils.data import DataLoader \n",
    "\n",
    "train_dataloader = DataLoader(train_dataset, batch_size=64, shuffle=True)\n",
    "test_dataloader = DataLoader(test_dataset, batch_size=64)\n",
    "\n",
    "imgs, labels = next(iter(train_dataloader))\n",
    "\n",
    "imgs.shape, imgs.dtype, imgs.max(), imgs.min()"
   ]
  },
  {
   "cell_type": "markdown",
   "metadata": {
    "ExecuteTime": {
     "end_time": "2020-05-11T09:11:49.647468Z",
     "start_time": "2020-05-11T09:11:49.630470Z"
    }
   },
   "source": [
    "You can also create your custom networks"
   ]
  },
  {
   "cell_type": "code",
   "execution_count": 53,
   "metadata": {
    "ExecuteTime": {
     "end_time": "2020-05-11T09:28:52.248000Z",
     "start_time": "2020-05-11T09:28:52.219998Z"
    }
   },
   "outputs": [
    {
     "data": {
      "text/plain": [
       "torch.Size([64, 10])"
      ]
     },
     "execution_count": 53,
     "metadata": {},
     "output_type": "execute_result"
    }
   ],
   "source": [
    "import torch.nn.functional as F\n",
    "\n",
    "class Net(torch.nn.Module):\n",
    "  def __init__(self):\n",
    "    super(Net, self).__init__()\n",
    "    self.fc1 = torch.nn.Linear(784, 100)\n",
    "    self.fc2 = torch.nn.Linear(100, 10)\n",
    "  def forward(self, x):\n",
    "    x = self.fc1(x)\n",
    "    x = F.relu(x)\n",
    "    x = self.fc2(x)\n",
    "    return x\n",
    "    \n",
    "net = Net()\n",
    "outputs = net(imgs)\n",
    "outputs.shape"
   ]
  },
  {
   "cell_type": "code",
   "execution_count": 54,
   "metadata": {
    "ExecuteTime": {
     "end_time": "2020-05-11T09:29:15.445503Z",
     "start_time": "2020-05-11T09:28:52.254998Z"
    }
   },
   "outputs": [
    {
     "name": "stderr",
     "output_type": "stream",
     "text": [
      "100%|███████████████████████████████| 875/875 [00:03<00:00, 231.97it/s]\n",
      "100%|███████████████████████████████| 219/219 [00:00<00:00, 436.26it/s]\n"
     ]
    },
    {
     "name": "stdout",
     "output_type": "stream",
     "text": [
      "Epoch: 1/5\n",
      " Train loss: 0.4548 Test loss: 0.2761 Train Acc: 49289/56000 (88 %) Test Acc: 12835/14000 (91 %)\n"
     ]
    },
    {
     "name": "stderr",
     "output_type": "stream",
     "text": [
      "100%|███████████████████████████████| 875/875 [00:03<00:00, 219.24it/s]\n",
      "100%|███████████████████████████████| 219/219 [00:00<00:00, 336.41it/s]\n"
     ]
    },
    {
     "name": "stdout",
     "output_type": "stream",
     "text": [
      "Epoch: 2/5\n",
      " Train loss: 0.2294 Test loss: 0.2121 Train Acc: 52297/56000 (93 %) Test Acc: 13125/14000 (93 %)\n"
     ]
    },
    {
     "name": "stderr",
     "output_type": "stream",
     "text": [
      "100%|███████████████████████████████| 875/875 [00:04<00:00, 208.59it/s]\n",
      "100%|███████████████████████████████| 219/219 [00:00<00:00, 446.03it/s]\n"
     ]
    },
    {
     "name": "stdout",
     "output_type": "stream",
     "text": [
      "Epoch: 3/5\n",
      " Train loss: 0.1771 Test loss: 0.1720 Train Acc: 53161/56000 (94 %) Test Acc: 13268/14000 (94 %)\n"
     ]
    },
    {
     "name": "stderr",
     "output_type": "stream",
     "text": [
      "100%|███████████████████████████████| 875/875 [00:03<00:00, 220.74it/s]\n",
      "100%|███████████████████████████████| 219/219 [00:00<00:00, 466.95it/s]\n"
     ]
    },
    {
     "name": "stdout",
     "output_type": "stream",
     "text": [
      "Epoch: 4/5\n",
      " Train loss: 0.1448 Test loss: 0.1462 Train Acc: 53677/56000 (95 %) Test Acc: 13402/14000 (95 %)\n"
     ]
    },
    {
     "name": "stderr",
     "output_type": "stream",
     "text": [
      "100%|███████████████████████████████| 875/875 [00:04<00:00, 194.12it/s]\n",
      "100%|███████████████████████████████| 219/219 [00:00<00:00, 373.70it/s]\n"
     ]
    },
    {
     "name": "stdout",
     "output_type": "stream",
     "text": [
      "Epoch: 5/5\n",
      " Train loss: 0.1226 Test loss: 0.1268 Train Acc: 54033/56000 (96 %) Test Acc: 13463/14000 (96 %)\n"
     ]
    }
   ],
   "source": [
    "optimizer = torch.optim.SGD(net.parameters(), lr=0.1)\n",
    "loss = torch.nn.CrossEntropyLoss()\n",
    "\n",
    "fit(net, train_dataloader, test_dataloader, optimizer, loss)"
   ]
  },
  {
   "cell_type": "markdown",
   "metadata": {},
   "source": [
    "To run computations on a `GPU` you only need to copy the network and data to the device."
   ]
  },
  {
   "cell_type": "code",
   "execution_count": 55,
   "metadata": {
    "ExecuteTime": {
     "end_time": "2020-05-11T09:29:15.461503Z",
     "start_time": "2020-05-11T09:29:15.448504Z"
    }
   },
   "outputs": [
    {
     "data": {
      "text/plain": [
       "'cuda'"
      ]
     },
     "execution_count": 55,
     "metadata": {},
     "output_type": "execute_result"
    }
   ],
   "source": [
    "device = \"cuda\" if torch.cuda.is_available() else \"cpu\"\n",
    "device"
   ]
  },
  {
   "cell_type": "code",
   "execution_count": 56,
   "metadata": {
    "ExecuteTime": {
     "end_time": "2020-05-11T09:29:15.493503Z",
     "start_time": "2020-05-11T09:29:15.463504Z"
    }
   },
   "outputs": [],
   "source": [
    "def fit_gpu(model, train_loader, test_loader, optimizer, loss, device, epochs=10):\n",
    "  model.to(device) # COPY MODEL TO GPU\n",
    "  for epoch in range(1, epochs+1):\n",
    "      # train\n",
    "      model.train() # VERY IMPORTANT !\n",
    "      train_loss, train_acc = [], 0\n",
    "      for imgs, labels in tqdm(train_loader):\n",
    "        imgs, labels = imgs.to(device), labels.to(device) # COPY DATA TO GPU \n",
    "        optimizer.zero_grad() # VERY IMPORTANT !\n",
    "        output = model(imgs.reshape(imgs.shape[0],28*28))\n",
    "        l = loss(output, labels)\n",
    "        l.backward()\n",
    "        optimizer.step()\n",
    "        train_acc += (torch.argmax(output, axis=1) == labels).sum()\n",
    "        train_loss.append(l.item())\n",
    "      # eval\n",
    "      model.eval() # VERY IMPORTANT !\n",
    "      test_loss, test_acc = [], 0\n",
    "      with torch.no_grad():\n",
    "        for imgs, labels in tqdm(test_loader):\n",
    "          imgs, labels = imgs.to(device), labels.to(device) # COPY DATA TO GPU \n",
    "          output = model(imgs.reshape(imgs.shape[0],28*28))\n",
    "          l = loss(output, labels)\n",
    "          test_acc += (torch.argmax(output, axis=1) == labels).sum()\n",
    "          test_loss.append(l.item())\n",
    "      print(f'Epoch: {epoch}/{epochs}\\n Train loss: {np.mean(train_loss):.4f} Test loss: {np.mean(test_loss):.4f} Train Acc: {train_acc}/{len(train_dataset)} ({100*train_acc/len(train_dataset)} %) Test Acc: {test_acc}/{len(test_dataset)} ({100*test_acc/len(test_dataset)} %)')"
   ]
  },
  {
   "cell_type": "code",
   "execution_count": 57,
   "metadata": {
    "ExecuteTime": {
     "end_time": "2020-05-11T09:29:48.642324Z",
     "start_time": "2020-05-11T09:29:15.495504Z"
    },
    "scrolled": true
   },
   "outputs": [
    {
     "name": "stderr",
     "output_type": "stream",
     "text": [
      "100%|███████████████████████████████| 875/875 [00:02<00:00, 305.87it/s]\n",
      "100%|███████████████████████████████| 219/219 [00:00<00:00, 506.34it/s]\n"
     ]
    },
    {
     "name": "stdout",
     "output_type": "stream",
     "text": [
      "Epoch: 1/10\n",
      " Train loss: 0.1068 Test loss: 0.1154 Train Acc: 54284/56000 (96 %) Test Acc: 13484/14000 (96 %)\n"
     ]
    },
    {
     "name": "stderr",
     "output_type": "stream",
     "text": [
      "100%|███████████████████████████████| 875/875 [00:02<00:00, 319.41it/s]\n",
      "100%|███████████████████████████████| 219/219 [00:00<00:00, 496.60it/s]\n"
     ]
    },
    {
     "name": "stdout",
     "output_type": "stream",
     "text": [
      "Epoch: 2/10\n",
      " Train loss: 0.0939 Test loss: 0.1106 Train Acc: 54497/56000 (97 %) Test Acc: 13509/14000 (96 %)\n"
     ]
    },
    {
     "name": "stderr",
     "output_type": "stream",
     "text": [
      "100%|███████████████████████████████| 875/875 [00:02<00:00, 316.83it/s]\n",
      "100%|███████████████████████████████| 219/219 [00:00<00:00, 506.95it/s]\n"
     ]
    },
    {
     "name": "stdout",
     "output_type": "stream",
     "text": [
      "Epoch: 3/10\n",
      " Train loss: 0.0847 Test loss: 0.1017 Train Acc: 54632/56000 (97 %) Test Acc: 13561/14000 (96 %)\n"
     ]
    },
    {
     "name": "stderr",
     "output_type": "stream",
     "text": [
      "100%|███████████████████████████████| 875/875 [00:02<00:00, 318.55it/s]\n",
      "100%|███████████████████████████████| 219/219 [00:00<00:00, 498.86it/s]\n"
     ]
    },
    {
     "name": "stdout",
     "output_type": "stream",
     "text": [
      "Epoch: 4/10\n",
      " Train loss: 0.0767 Test loss: 0.0959 Train Acc: 54786/56000 (97 %) Test Acc: 13587/14000 (97 %)\n"
     ]
    },
    {
     "name": "stderr",
     "output_type": "stream",
     "text": [
      "100%|███████████████████████████████| 875/875 [00:02<00:00, 317.15it/s]\n",
      "100%|███████████████████████████████| 219/219 [00:00<00:00, 506.94it/s]\n"
     ]
    },
    {
     "name": "stdout",
     "output_type": "stream",
     "text": [
      "Epoch: 5/10\n",
      " Train loss: 0.0696 Test loss: 0.0910 Train Acc: 54875/56000 (97 %) Test Acc: 13596/14000 (97 %)\n"
     ]
    },
    {
     "name": "stderr",
     "output_type": "stream",
     "text": [
      "100%|███████████████████████████████| 875/875 [00:02<00:00, 314.65it/s]\n",
      "100%|███████████████████████████████| 219/219 [00:00<00:00, 504.61it/s]\n"
     ]
    },
    {
     "name": "stdout",
     "output_type": "stream",
     "text": [
      "Epoch: 6/10\n",
      " Train loss: 0.0639 Test loss: 0.0880 Train Acc: 54979/56000 (98 %) Test Acc: 13602/14000 (97 %)\n"
     ]
    },
    {
     "name": "stderr",
     "output_type": "stream",
     "text": [
      "100%|███████████████████████████████| 875/875 [00:02<00:00, 323.10it/s]\n",
      "100%|███████████████████████████████| 219/219 [00:00<00:00, 506.94it/s]\n"
     ]
    },
    {
     "name": "stdout",
     "output_type": "stream",
     "text": [
      "Epoch: 7/10\n",
      " Train loss: 0.0585 Test loss: 0.0831 Train Acc: 55072/56000 (98 %) Test Acc: 13639/14000 (97 %)\n"
     ]
    },
    {
     "name": "stderr",
     "output_type": "stream",
     "text": [
      "100%|███████████████████████████████| 875/875 [00:02<00:00, 319.45it/s]\n",
      "100%|███████████████████████████████| 219/219 [00:00<00:00, 502.36it/s]\n"
     ]
    },
    {
     "name": "stdout",
     "output_type": "stream",
     "text": [
      "Epoch: 8/10\n",
      " Train loss: 0.0543 Test loss: 0.0826 Train Acc: 55134/56000 (98 %) Test Acc: 13619/14000 (97 %)\n"
     ]
    },
    {
     "name": "stderr",
     "output_type": "stream",
     "text": [
      "100%|███████████████████████████████| 875/875 [00:02<00:00, 318.35it/s]\n",
      "100%|███████████████████████████████| 219/219 [00:00<00:00, 508.13it/s]\n"
     ]
    },
    {
     "name": "stdout",
     "output_type": "stream",
     "text": [
      "Epoch: 9/10\n",
      " Train loss: 0.0501 Test loss: 0.0802 Train Acc: 55248/56000 (98 %) Test Acc: 13649/14000 (97 %)\n"
     ]
    },
    {
     "name": "stderr",
     "output_type": "stream",
     "text": [
      "100%|███████████████████████████████| 875/875 [00:02<00:00, 318.64it/s]\n",
      "100%|███████████████████████████████| 219/219 [00:00<00:00, 506.95it/s]\n"
     ]
    },
    {
     "name": "stdout",
     "output_type": "stream",
     "text": [
      "Epoch: 10/10\n",
      " Train loss: 0.0461 Test loss: 0.0796 Train Acc: 55295/56000 (98 %) Test Acc: 13638/14000 (97 %)\n"
     ]
    }
   ],
   "source": [
    "fit_gpu(net, train_dataloader, test_dataloader, optimizer, loss, device)"
   ]
  },
  {
   "cell_type": "markdown",
   "metadata": {},
   "source": [
    "Notice that the code will also work if a GPU is not available, making it generic for all devices.\n",
    "\n",
    "Finally, you can save and load your model."
   ]
  },
  {
   "cell_type": "code",
   "execution_count": 58,
   "metadata": {
    "ExecuteTime": {
     "end_time": "2020-05-11T09:29:48.657324Z",
     "start_time": "2020-05-11T09:29:48.643326Z"
    }
   },
   "outputs": [
    {
     "name": "stderr",
     "output_type": "stream",
     "text": [
      "C:\\Users\\sensio\\miniconda3\\lib\\site-packages\\torch\\serialization.py:402: UserWarning: Couldn't retrieve source code for container of type Net. It won't be checked for correctness upon loading.\n",
      "  \"type \" + obj.__name__ + \". It won't be checked \"\n"
     ]
    }
   ],
   "source": [
    "torch.save(net.cpu(), \"my_model.pth\")"
   ]
  },
  {
   "cell_type": "code",
   "execution_count": 59,
   "metadata": {
    "ExecuteTime": {
     "end_time": "2020-05-11T09:29:48.689323Z",
     "start_time": "2020-05-11T09:29:48.658325Z"
    }
   },
   "outputs": [],
   "source": [
    "net = torch.load(\"my_model.pth\")"
   ]
  },
  {
   "cell_type": "markdown",
   "metadata": {},
   "source": [
    "To learn more about Pytorch, the tutorials section in [pytorch.org](https://pytorch.org/tutorials/) is the best place."
   ]
  }
 ],
 "metadata": {
  "kernelspec": {
   "display_name": "Python 3",
   "language": "python",
   "name": "python3"
  },
  "language_info": {
   "codemirror_mode": {
    "name": "ipython",
    "version": 3
   },
   "file_extension": ".py",
   "mimetype": "text/x-python",
   "name": "python",
   "nbconvert_exporter": "python",
   "pygments_lexer": "ipython3",
   "version": "3.7.6"
  },
  "toc": {
   "base_numbering": 1,
   "nav_menu": {},
   "number_sections": true,
   "sideBar": true,
   "skip_h1_title": false,
   "title_cell": "Table of Contents",
   "title_sidebar": "Contents",
   "toc_cell": false,
   "toc_position": {
    "height": "calc(100% - 180px)",
    "left": "10px",
    "top": "150px",
    "width": "311.989px"
   },
   "toc_section_display": true,
   "toc_window_display": true
  }
 },
 "nbformat": 4,
 "nbformat_minor": 4
}
